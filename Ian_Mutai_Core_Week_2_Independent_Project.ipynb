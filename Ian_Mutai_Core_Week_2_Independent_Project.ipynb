{
  "nbformat": 4,
  "nbformat_minor": 0,
  "metadata": {
    "colab": {
      "name": "Ian Mutai Core Week 2 Independent Project.ipynb",
      "provenance": [],
      "collapsed_sections": [],
      "toc_visible": true,
      "authorship_tag": "ABX9TyOgcMs5jokAEtTHRx4OG/l2",
      "include_colab_link": true
    },
    "kernelspec": {
      "name": "python3",
      "display_name": "Python 3"
    },
    "language_info": {
      "name": "python"
    }
  },
  "cells": [
    {
      "cell_type": "markdown",
      "metadata": {
        "id": "view-in-github",
        "colab_type": "text"
      },
      "source": [
        "<a href=\"https://colab.research.google.com/github/ian-mutai0/Financial-Inclusion-Project/blob/main/Ian_Mutai_Core_Week_2_Independent_Project.ipynb\" target=\"_parent\"><img src=\"https://colab.research.google.com/assets/colab-badge.svg\" alt=\"Open In Colab\"/></a>"
      ]
    },
    {
      "cell_type": "markdown",
      "metadata": {
        "id": "BldiRAfxHTFc"
      },
      "source": [
        "# FINANCIAL INCLUSION PROJECT"
      ]
    },
    {
      "cell_type": "markdown",
      "metadata": {
        "id": "OGEiyLCt-ceO"
      },
      "source": [
        "# 1. Defining the question"
      ]
    },
    {
      "cell_type": "markdown",
      "metadata": {
        "id": "iTH6b6YEKNfX"
      },
      "source": [
        "## Specifying the specific data analytic question"
      ]
    },
    {
      "cell_type": "markdown",
      "metadata": {
        "id": "bkqsxg9bD06X"
      },
      "source": [
        "How we can predict which individuals are most likely to have or use a bank account."
      ]
    },
    {
      "cell_type": "markdown",
      "metadata": {
        "id": "8o1u4IbVECdW"
      },
      "source": [
        "## Defining the Metric for Success"
      ]
    },
    {
      "cell_type": "markdown",
      "metadata": {
        "id": "4Bn8GMIhEKTo"
      },
      "source": [
        "Being able to predict which individuals are most likely to have or use a bank account"
      ]
    },
    {
      "cell_type": "markdown",
      "metadata": {
        "id": "fp1LxHamESGs"
      },
      "source": [
        "## Understanding the Context"
      ]
    },
    {
      "cell_type": "markdown",
      "metadata": {
        "id": "FS0ylGdnEled"
      },
      "source": [
        "Financial Inclusion remains one of the main obstacles to economic and human development in Africa.\n",
        "Traditionally, access to bank accounts has been regarded as an indicator of financial inclusion. Despite the proliferation of mobile money in Africa and the growth of innovative fintech solutions, banks still play a pivotal role in facilitating access to financial services. Access to bank accounts enables households to save and facilitate payments while also helping businesses build up their credit-worthiness and improve their access to other financial services. \n",
        "Financial inclusion also helps in the overall economic development of the underprivileged population living in rural areas. "
      ]
    },
    {
      "cell_type": "markdown",
      "metadata": {
        "id": "nXnrZivVFLXD"
      },
      "source": [
        "## Recording the Experimental Design"
      ]
    },
    {
      "cell_type": "markdown",
      "metadata": {
        "id": "hlgUNBE6FSNG"
      },
      "source": [
        "- Reading the datasets into our environment. \n",
        "- Tidying the data by checking for outliers, null values and duplicates and dealing with them. \n",
        "- Performing univariate, bivariate and multivariate analysis and recording the observations.\n",
        "- Implementing the solution by performing the respective analysis i.e. principal component analysis and discriminant analysis.\n",
        "- Challenge your solution by providing insights on how you can make improvements."
      ]
    },
    {
      "cell_type": "markdown",
      "metadata": {
        "id": "ph4jA7dNGkq3"
      },
      "source": [
        "## Data Relevance"
      ]
    },
    {
      "cell_type": "markdown",
      "metadata": {
        "id": "S5fXMfRDGq_e"
      },
      "source": [
        "The data we have is relevant since we need key demographic factors such as age, income, household size, gender, marital status, type of job and level of education to provide an indication of the state of financial inclusion in the respective countries. "
      ]
    },
    {
      "cell_type": "markdown",
      "metadata": {
        "id": "6gMoldwe85M8"
      },
      "source": [
        "# 2. Importing the relevant libraries"
      ]
    },
    {
      "cell_type": "code",
      "metadata": {
        "id": "Tr3KcWBG-Izk"
      },
      "source": [
        "# Importing the required libraries\n",
        "import pandas as pd\n",
        "import numpy as np\n",
        "import seaborn as sns\n",
        "import matplotlib\n",
        "from matplotlib import pyplot as plt\n",
        "%matplotlib inline"
      ],
      "execution_count": 1,
      "outputs": []
    },
    {
      "cell_type": "markdown",
      "metadata": {
        "id": "BwX1gbFh8eJJ"
      },
      "source": [
        "# 3. Reading the data"
      ]
    },
    {
      "cell_type": "code",
      "metadata": {
        "colab": {
          "base_uri": "https://localhost:8080/",
          "height": 677
        },
        "id": "_b-f9Rxm8kM7",
        "outputId": "ed367b11-3474-4685-b832-31261ca29e56"
      },
      "source": [
        "# Loading the dataset into our environment\n",
        "finance = pd.read_csv('/content/Financial Dataset - 1.csv')\n",
        "finance\n"
      ],
      "execution_count": 2,
      "outputs": [
        {
          "output_type": "execute_result",
          "data": {
            "text/html": [
              "<div>\n",
              "<style scoped>\n",
              "    .dataframe tbody tr th:only-of-type {\n",
              "        vertical-align: middle;\n",
              "    }\n",
              "\n",
              "    .dataframe tbody tr th {\n",
              "        vertical-align: top;\n",
              "    }\n",
              "\n",
              "    .dataframe thead th {\n",
              "        text-align: right;\n",
              "    }\n",
              "</style>\n",
              "<table border=\"1\" class=\"dataframe\">\n",
              "  <thead>\n",
              "    <tr style=\"text-align: right;\">\n",
              "      <th></th>\n",
              "      <th>country</th>\n",
              "      <th>year</th>\n",
              "      <th>uniqueid</th>\n",
              "      <th>Has a Bank account</th>\n",
              "      <th>Type of Location</th>\n",
              "      <th>Cell Phone Access</th>\n",
              "      <th>household_size</th>\n",
              "      <th>Respondent Age</th>\n",
              "      <th>gender_of_respondent</th>\n",
              "      <th>The relathip with head</th>\n",
              "      <th>marital_status</th>\n",
              "      <th>Level of Educuation</th>\n",
              "      <th>Type of Job</th>\n",
              "    </tr>\n",
              "  </thead>\n",
              "  <tbody>\n",
              "    <tr>\n",
              "      <th>0</th>\n",
              "      <td>Kenya</td>\n",
              "      <td>2018</td>\n",
              "      <td>uniqueid_1</td>\n",
              "      <td>Yes</td>\n",
              "      <td>Rural</td>\n",
              "      <td>Yes</td>\n",
              "      <td>3.0</td>\n",
              "      <td>24.0</td>\n",
              "      <td>Female</td>\n",
              "      <td>Spouse</td>\n",
              "      <td>Married/Living together</td>\n",
              "      <td>Secondary education</td>\n",
              "      <td>Self employed</td>\n",
              "    </tr>\n",
              "    <tr>\n",
              "      <th>1</th>\n",
              "      <td>Kenya</td>\n",
              "      <td>2018</td>\n",
              "      <td>uniqueid_2</td>\n",
              "      <td>No</td>\n",
              "      <td>Rural</td>\n",
              "      <td>No</td>\n",
              "      <td>5.0</td>\n",
              "      <td>70.0</td>\n",
              "      <td>Female</td>\n",
              "      <td>Head of Household</td>\n",
              "      <td>Widowed</td>\n",
              "      <td>No formal education</td>\n",
              "      <td>Government Dependent</td>\n",
              "    </tr>\n",
              "    <tr>\n",
              "      <th>2</th>\n",
              "      <td>Kenya</td>\n",
              "      <td>2018</td>\n",
              "      <td>uniqueid_3</td>\n",
              "      <td>Yes</td>\n",
              "      <td>Urban</td>\n",
              "      <td>Yes</td>\n",
              "      <td>5.0</td>\n",
              "      <td>26.0</td>\n",
              "      <td>Male</td>\n",
              "      <td>Other relative</td>\n",
              "      <td>Single/Never Married</td>\n",
              "      <td>Vocational/Specialised training</td>\n",
              "      <td>Self employed</td>\n",
              "    </tr>\n",
              "    <tr>\n",
              "      <th>3</th>\n",
              "      <td>Kenya</td>\n",
              "      <td>2018</td>\n",
              "      <td>uniqueid_4</td>\n",
              "      <td>No</td>\n",
              "      <td>Rural</td>\n",
              "      <td>Yes</td>\n",
              "      <td>5.0</td>\n",
              "      <td>34.0</td>\n",
              "      <td>Female</td>\n",
              "      <td>Head of Household</td>\n",
              "      <td>Married/Living together</td>\n",
              "      <td>Primary education</td>\n",
              "      <td>Formally employed Private</td>\n",
              "    </tr>\n",
              "    <tr>\n",
              "      <th>4</th>\n",
              "      <td>Kenya</td>\n",
              "      <td>2018</td>\n",
              "      <td>uniqueid_5</td>\n",
              "      <td>No</td>\n",
              "      <td>Urban</td>\n",
              "      <td>No</td>\n",
              "      <td>8.0</td>\n",
              "      <td>26.0</td>\n",
              "      <td>Male</td>\n",
              "      <td>Child</td>\n",
              "      <td>Single/Never Married</td>\n",
              "      <td>Primary education</td>\n",
              "      <td>Informally employed</td>\n",
              "    </tr>\n",
              "    <tr>\n",
              "      <th>...</th>\n",
              "      <td>...</td>\n",
              "      <td>...</td>\n",
              "      <td>...</td>\n",
              "      <td>...</td>\n",
              "      <td>...</td>\n",
              "      <td>...</td>\n",
              "      <td>...</td>\n",
              "      <td>...</td>\n",
              "      <td>...</td>\n",
              "      <td>...</td>\n",
              "      <td>...</td>\n",
              "      <td>...</td>\n",
              "      <td>...</td>\n",
              "    </tr>\n",
              "    <tr>\n",
              "      <th>23519</th>\n",
              "      <td>Uganda</td>\n",
              "      <td>2018</td>\n",
              "      <td>uniqueid_2113</td>\n",
              "      <td>No</td>\n",
              "      <td>Rural</td>\n",
              "      <td>Yes</td>\n",
              "      <td>4.0</td>\n",
              "      <td>48.0</td>\n",
              "      <td>Female</td>\n",
              "      <td>Head of Household</td>\n",
              "      <td>Divorced/Seperated</td>\n",
              "      <td>No formal education</td>\n",
              "      <td>Other Income</td>\n",
              "    </tr>\n",
              "    <tr>\n",
              "      <th>23520</th>\n",
              "      <td>Uganda</td>\n",
              "      <td>2018</td>\n",
              "      <td>uniqueid_2114</td>\n",
              "      <td>No</td>\n",
              "      <td>Rural</td>\n",
              "      <td>Yes</td>\n",
              "      <td>2.0</td>\n",
              "      <td>27.0</td>\n",
              "      <td>Female</td>\n",
              "      <td>Head of Household</td>\n",
              "      <td>Single/Never Married</td>\n",
              "      <td>Secondary education</td>\n",
              "      <td>Other Income</td>\n",
              "    </tr>\n",
              "    <tr>\n",
              "      <th>23521</th>\n",
              "      <td>Uganda</td>\n",
              "      <td>2018</td>\n",
              "      <td>uniqueid_2115</td>\n",
              "      <td>No</td>\n",
              "      <td>Rural</td>\n",
              "      <td>Yes</td>\n",
              "      <td>5.0</td>\n",
              "      <td>27.0</td>\n",
              "      <td>Female</td>\n",
              "      <td>Parent</td>\n",
              "      <td>Widowed</td>\n",
              "      <td>Primary education</td>\n",
              "      <td>Other Income</td>\n",
              "    </tr>\n",
              "    <tr>\n",
              "      <th>23522</th>\n",
              "      <td>Uganda</td>\n",
              "      <td>2018</td>\n",
              "      <td>uniqueid_2116</td>\n",
              "      <td>No</td>\n",
              "      <td>Urban</td>\n",
              "      <td>Yes</td>\n",
              "      <td>7.0</td>\n",
              "      <td>30.0</td>\n",
              "      <td>Female</td>\n",
              "      <td>Parent</td>\n",
              "      <td>Divorced/Seperated</td>\n",
              "      <td>Secondary education</td>\n",
              "      <td>Self employed</td>\n",
              "    </tr>\n",
              "    <tr>\n",
              "      <th>23523</th>\n",
              "      <td>Uganda</td>\n",
              "      <td>2018</td>\n",
              "      <td>uniqueid_2117</td>\n",
              "      <td>No</td>\n",
              "      <td>Rural</td>\n",
              "      <td>Yes</td>\n",
              "      <td>10.0</td>\n",
              "      <td>20.0</td>\n",
              "      <td>Male</td>\n",
              "      <td>Child</td>\n",
              "      <td>Single/Never Married</td>\n",
              "      <td>Secondary education</td>\n",
              "      <td>No Income</td>\n",
              "    </tr>\n",
              "  </tbody>\n",
              "</table>\n",
              "<p>23524 rows × 13 columns</p>\n",
              "</div>"
            ],
            "text/plain": [
              "      country  year  ...              Level of Educuation                Type of Job\n",
              "0       Kenya  2018  ...              Secondary education              Self employed\n",
              "1       Kenya  2018  ...              No formal education       Government Dependent\n",
              "2       Kenya  2018  ...  Vocational/Specialised training              Self employed\n",
              "3       Kenya  2018  ...                Primary education  Formally employed Private\n",
              "4       Kenya  2018  ...                Primary education        Informally employed\n",
              "...       ...   ...  ...                              ...                        ...\n",
              "23519  Uganda  2018  ...              No formal education               Other Income\n",
              "23520  Uganda  2018  ...              Secondary education               Other Income\n",
              "23521  Uganda  2018  ...                Primary education               Other Income\n",
              "23522  Uganda  2018  ...              Secondary education              Self employed\n",
              "23523  Uganda  2018  ...              Secondary education                  No Income\n",
              "\n",
              "[23524 rows x 13 columns]"
            ]
          },
          "metadata": {
            "tags": []
          },
          "execution_count": 2
        }
      ]
    },
    {
      "cell_type": "markdown",
      "metadata": {
        "id": "6Fypcr9i_Qev"
      },
      "source": [
        "# 4. Checking the Data"
      ]
    },
    {
      "cell_type": "code",
      "metadata": {
        "colab": {
          "base_uri": "https://localhost:8080/"
        },
        "id": "kcxbdYEx-G65",
        "outputId": "06ce9f3b-b07e-4e33-cefb-233f306c0f09"
      },
      "source": [
        "# Determining the no. of records in our data\n",
        "finance.shape\n",
        "\n",
        "#The data has 23524 rows and 13 columns"
      ],
      "execution_count": 3,
      "outputs": [
        {
          "output_type": "execute_result",
          "data": {
            "text/plain": [
              "(23524, 13)"
            ]
          },
          "metadata": {
            "tags": []
          },
          "execution_count": 3
        }
      ]
    },
    {
      "cell_type": "code",
      "metadata": {
        "id": "4UAms9pkLPR2",
        "colab": {
          "base_uri": "https://localhost:8080/",
          "height": 377
        },
        "outputId": "22966ed9-6c5b-483b-d69f-1d7448588aab"
      },
      "source": [
        "# Previewing the top of the dataset\n",
        "finance.head()"
      ],
      "execution_count": 4,
      "outputs": [
        {
          "output_type": "execute_result",
          "data": {
            "text/html": [
              "<div>\n",
              "<style scoped>\n",
              "    .dataframe tbody tr th:only-of-type {\n",
              "        vertical-align: middle;\n",
              "    }\n",
              "\n",
              "    .dataframe tbody tr th {\n",
              "        vertical-align: top;\n",
              "    }\n",
              "\n",
              "    .dataframe thead th {\n",
              "        text-align: right;\n",
              "    }\n",
              "</style>\n",
              "<table border=\"1\" class=\"dataframe\">\n",
              "  <thead>\n",
              "    <tr style=\"text-align: right;\">\n",
              "      <th></th>\n",
              "      <th>country</th>\n",
              "      <th>year</th>\n",
              "      <th>uniqueid</th>\n",
              "      <th>Has a Bank account</th>\n",
              "      <th>Type of Location</th>\n",
              "      <th>Cell Phone Access</th>\n",
              "      <th>household_size</th>\n",
              "      <th>Respondent Age</th>\n",
              "      <th>gender_of_respondent</th>\n",
              "      <th>The relathip with head</th>\n",
              "      <th>marital_status</th>\n",
              "      <th>Level of Educuation</th>\n",
              "      <th>Type of Job</th>\n",
              "    </tr>\n",
              "  </thead>\n",
              "  <tbody>\n",
              "    <tr>\n",
              "      <th>0</th>\n",
              "      <td>Kenya</td>\n",
              "      <td>2018</td>\n",
              "      <td>uniqueid_1</td>\n",
              "      <td>Yes</td>\n",
              "      <td>Rural</td>\n",
              "      <td>Yes</td>\n",
              "      <td>3.0</td>\n",
              "      <td>24.0</td>\n",
              "      <td>Female</td>\n",
              "      <td>Spouse</td>\n",
              "      <td>Married/Living together</td>\n",
              "      <td>Secondary education</td>\n",
              "      <td>Self employed</td>\n",
              "    </tr>\n",
              "    <tr>\n",
              "      <th>1</th>\n",
              "      <td>Kenya</td>\n",
              "      <td>2018</td>\n",
              "      <td>uniqueid_2</td>\n",
              "      <td>No</td>\n",
              "      <td>Rural</td>\n",
              "      <td>No</td>\n",
              "      <td>5.0</td>\n",
              "      <td>70.0</td>\n",
              "      <td>Female</td>\n",
              "      <td>Head of Household</td>\n",
              "      <td>Widowed</td>\n",
              "      <td>No formal education</td>\n",
              "      <td>Government Dependent</td>\n",
              "    </tr>\n",
              "    <tr>\n",
              "      <th>2</th>\n",
              "      <td>Kenya</td>\n",
              "      <td>2018</td>\n",
              "      <td>uniqueid_3</td>\n",
              "      <td>Yes</td>\n",
              "      <td>Urban</td>\n",
              "      <td>Yes</td>\n",
              "      <td>5.0</td>\n",
              "      <td>26.0</td>\n",
              "      <td>Male</td>\n",
              "      <td>Other relative</td>\n",
              "      <td>Single/Never Married</td>\n",
              "      <td>Vocational/Specialised training</td>\n",
              "      <td>Self employed</td>\n",
              "    </tr>\n",
              "    <tr>\n",
              "      <th>3</th>\n",
              "      <td>Kenya</td>\n",
              "      <td>2018</td>\n",
              "      <td>uniqueid_4</td>\n",
              "      <td>No</td>\n",
              "      <td>Rural</td>\n",
              "      <td>Yes</td>\n",
              "      <td>5.0</td>\n",
              "      <td>34.0</td>\n",
              "      <td>Female</td>\n",
              "      <td>Head of Household</td>\n",
              "      <td>Married/Living together</td>\n",
              "      <td>Primary education</td>\n",
              "      <td>Formally employed Private</td>\n",
              "    </tr>\n",
              "    <tr>\n",
              "      <th>4</th>\n",
              "      <td>Kenya</td>\n",
              "      <td>2018</td>\n",
              "      <td>uniqueid_5</td>\n",
              "      <td>No</td>\n",
              "      <td>Urban</td>\n",
              "      <td>No</td>\n",
              "      <td>8.0</td>\n",
              "      <td>26.0</td>\n",
              "      <td>Male</td>\n",
              "      <td>Child</td>\n",
              "      <td>Single/Never Married</td>\n",
              "      <td>Primary education</td>\n",
              "      <td>Informally employed</td>\n",
              "    </tr>\n",
              "  </tbody>\n",
              "</table>\n",
              "</div>"
            ],
            "text/plain": [
              "  country  year  ...              Level of Educuation                Type of Job\n",
              "0   Kenya  2018  ...              Secondary education              Self employed\n",
              "1   Kenya  2018  ...              No formal education       Government Dependent\n",
              "2   Kenya  2018  ...  Vocational/Specialised training              Self employed\n",
              "3   Kenya  2018  ...                Primary education  Formally employed Private\n",
              "4   Kenya  2018  ...                Primary education        Informally employed\n",
              "\n",
              "[5 rows x 13 columns]"
            ]
          },
          "metadata": {
            "tags": []
          },
          "execution_count": 4
        }
      ]
    },
    {
      "cell_type": "code",
      "metadata": {
        "colab": {
          "base_uri": "https://localhost:8080/",
          "height": 360
        },
        "id": "RxWRvWlvUOyd",
        "outputId": "05fa8411-ad25-4320-8bda-03e166b7a6d4"
      },
      "source": [
        "# Previewing the bottom of the dataset\n",
        "finance.tail()"
      ],
      "execution_count": 5,
      "outputs": [
        {
          "output_type": "execute_result",
          "data": {
            "text/html": [
              "<div>\n",
              "<style scoped>\n",
              "    .dataframe tbody tr th:only-of-type {\n",
              "        vertical-align: middle;\n",
              "    }\n",
              "\n",
              "    .dataframe tbody tr th {\n",
              "        vertical-align: top;\n",
              "    }\n",
              "\n",
              "    .dataframe thead th {\n",
              "        text-align: right;\n",
              "    }\n",
              "</style>\n",
              "<table border=\"1\" class=\"dataframe\">\n",
              "  <thead>\n",
              "    <tr style=\"text-align: right;\">\n",
              "      <th></th>\n",
              "      <th>country</th>\n",
              "      <th>year</th>\n",
              "      <th>uniqueid</th>\n",
              "      <th>Has a Bank account</th>\n",
              "      <th>Type of Location</th>\n",
              "      <th>Cell Phone Access</th>\n",
              "      <th>household_size</th>\n",
              "      <th>Respondent Age</th>\n",
              "      <th>gender_of_respondent</th>\n",
              "      <th>The relathip with head</th>\n",
              "      <th>marital_status</th>\n",
              "      <th>Level of Educuation</th>\n",
              "      <th>Type of Job</th>\n",
              "    </tr>\n",
              "  </thead>\n",
              "  <tbody>\n",
              "    <tr>\n",
              "      <th>23519</th>\n",
              "      <td>Uganda</td>\n",
              "      <td>2018</td>\n",
              "      <td>uniqueid_2113</td>\n",
              "      <td>No</td>\n",
              "      <td>Rural</td>\n",
              "      <td>Yes</td>\n",
              "      <td>4.0</td>\n",
              "      <td>48.0</td>\n",
              "      <td>Female</td>\n",
              "      <td>Head of Household</td>\n",
              "      <td>Divorced/Seperated</td>\n",
              "      <td>No formal education</td>\n",
              "      <td>Other Income</td>\n",
              "    </tr>\n",
              "    <tr>\n",
              "      <th>23520</th>\n",
              "      <td>Uganda</td>\n",
              "      <td>2018</td>\n",
              "      <td>uniqueid_2114</td>\n",
              "      <td>No</td>\n",
              "      <td>Rural</td>\n",
              "      <td>Yes</td>\n",
              "      <td>2.0</td>\n",
              "      <td>27.0</td>\n",
              "      <td>Female</td>\n",
              "      <td>Head of Household</td>\n",
              "      <td>Single/Never Married</td>\n",
              "      <td>Secondary education</td>\n",
              "      <td>Other Income</td>\n",
              "    </tr>\n",
              "    <tr>\n",
              "      <th>23521</th>\n",
              "      <td>Uganda</td>\n",
              "      <td>2018</td>\n",
              "      <td>uniqueid_2115</td>\n",
              "      <td>No</td>\n",
              "      <td>Rural</td>\n",
              "      <td>Yes</td>\n",
              "      <td>5.0</td>\n",
              "      <td>27.0</td>\n",
              "      <td>Female</td>\n",
              "      <td>Parent</td>\n",
              "      <td>Widowed</td>\n",
              "      <td>Primary education</td>\n",
              "      <td>Other Income</td>\n",
              "    </tr>\n",
              "    <tr>\n",
              "      <th>23522</th>\n",
              "      <td>Uganda</td>\n",
              "      <td>2018</td>\n",
              "      <td>uniqueid_2116</td>\n",
              "      <td>No</td>\n",
              "      <td>Urban</td>\n",
              "      <td>Yes</td>\n",
              "      <td>7.0</td>\n",
              "      <td>30.0</td>\n",
              "      <td>Female</td>\n",
              "      <td>Parent</td>\n",
              "      <td>Divorced/Seperated</td>\n",
              "      <td>Secondary education</td>\n",
              "      <td>Self employed</td>\n",
              "    </tr>\n",
              "    <tr>\n",
              "      <th>23523</th>\n",
              "      <td>Uganda</td>\n",
              "      <td>2018</td>\n",
              "      <td>uniqueid_2117</td>\n",
              "      <td>No</td>\n",
              "      <td>Rural</td>\n",
              "      <td>Yes</td>\n",
              "      <td>10.0</td>\n",
              "      <td>20.0</td>\n",
              "      <td>Male</td>\n",
              "      <td>Child</td>\n",
              "      <td>Single/Never Married</td>\n",
              "      <td>Secondary education</td>\n",
              "      <td>No Income</td>\n",
              "    </tr>\n",
              "  </tbody>\n",
              "</table>\n",
              "</div>"
            ],
            "text/plain": [
              "      country  year  ...  Level of Educuation    Type of Job\n",
              "23519  Uganda  2018  ...  No formal education   Other Income\n",
              "23520  Uganda  2018  ...  Secondary education   Other Income\n",
              "23521  Uganda  2018  ...    Primary education   Other Income\n",
              "23522  Uganda  2018  ...  Secondary education  Self employed\n",
              "23523  Uganda  2018  ...  Secondary education      No Income\n",
              "\n",
              "[5 rows x 13 columns]"
            ]
          },
          "metadata": {
            "tags": []
          },
          "execution_count": 5
        }
      ]
    },
    {
      "cell_type": "code",
      "metadata": {
        "colab": {
          "base_uri": "https://localhost:8080/"
        },
        "id": "pAHqymIhUcwJ",
        "outputId": "8a170c75-f7be-486c-c66a-884bed3d9aea"
      },
      "source": [
        "# Checking the datatypes of the columns\n",
        "finance.dtypes"
      ],
      "execution_count": 6,
      "outputs": [
        {
          "output_type": "execute_result",
          "data": {
            "text/plain": [
              "country                    object\n",
              "year                        int64\n",
              "uniqueid                   object\n",
              "Has a Bank account         object\n",
              "Type of Location           object\n",
              "Cell Phone Access          object\n",
              "household_size            float64\n",
              "Respondent Age            float64\n",
              "gender_of_respondent       object\n",
              "The relathip with head     object\n",
              "marital_status             object\n",
              "Level of Educuation        object\n",
              "Type of Job                object\n",
              "dtype: object"
            ]
          },
          "metadata": {
            "tags": []
          },
          "execution_count": 6
        }
      ]
    },
    {
      "cell_type": "markdown",
      "metadata": {
        "id": "iIurdxZvFyuk"
      },
      "source": [
        "# 5. External Data Source Validation"
      ]
    },
    {
      "cell_type": "markdown",
      "metadata": {
        "id": "AqeIbzB1F4Sz"
      },
      "source": [
        " Making sure your data matches something outside of the dataset is very important. It allows you to ensure that the measurements are roughly in line with what they should be and it serves as a check on what other things might be wrong in your dataset. External validation can often be as simple as checking your data against a single number, as we will do here.\n",
        "\n",
        "An example would be suppose that you're working with a dataset on the surveys ranging from 2016 to 2018 of countries. Validating such information with an external reliable resource such as Finscope surveys in 2018 would be important step to providing credibility to your dataset. Have a look at the following link for an example. [Link](http://www.fsdt.or.tz/wp-content/uploads/2017/09/Finscope.pdf) [Link](https://fsduganda.or.ug/wp-content/uploads/2018/10/FinScope-Uganda-Survey-Report-2018.pdf)"
      ]
    },
    {
      "cell_type": "markdown",
      "metadata": {
        "id": "RroDYxEZB3MA"
      },
      "source": [
        "# 6. Tidying the Data"
      ]
    },
    {
      "cell_type": "code",
      "metadata": {
        "colab": {
          "base_uri": "https://localhost:8080/",
          "height": 582
        },
        "id": "ZkJ9UzUKAGHJ",
        "outputId": "fac4ac99-7ae2-4cf4-a557-cd970ac1e21b"
      },
      "source": [
        "# Checking for outliers\n",
        "fig, (ax1, ax2) = plt.subplots(1,2, figsize=(10, 7))\n",
        "fig.suptitle('Boxplots')\n",
        "sns.boxplot(finance['household_size'], ax=ax1)\n",
        "sns.boxplot(finance['Respondent Age'], ax=ax2)\n",
        "plt.show()"
      ],
      "execution_count": 7,
      "outputs": [
        {
          "output_type": "stream",
          "text": [
            "/usr/local/lib/python3.7/dist-packages/seaborn/_decorators.py:43: FutureWarning: Pass the following variable as a keyword arg: x. From version 0.12, the only valid positional argument will be `data`, and passing other arguments without an explicit keyword will result in an error or misinterpretation.\n",
            "  FutureWarning\n",
            "/usr/local/lib/python3.7/dist-packages/seaborn/_decorators.py:43: FutureWarning: Pass the following variable as a keyword arg: x. From version 0.12, the only valid positional argument will be `data`, and passing other arguments without an explicit keyword will result in an error or misinterpretation.\n",
            "  FutureWarning\n"
          ],
          "name": "stderr"
        },
        {
          "output_type": "display_data",
          "data": {
            "image/png": "[encoded data removed]",
            "text/plain": [
              "<Figure size 720x504 with 2 Axes>"
            ]
          },
          "metadata": {
            "tags": [],
            "needs_background": "light"
          }
        }
      ]
    },
    {
      "cell_type": "code",
      "metadata": {
        "id": "O48Txhy7GtA7"
      },
      "source": [
        "# Checking for anomalies\n",
        "#Checking for Anomalies\n",
        "#q1_1 = df['household_size'].quantile(.25)\n",
        "#q3_1 = df['household_size'].quantile(.75)\n",
        "\n",
        "#q1_3, q3_3 = np.percentile(finance['household_size'], [25, 75]) \n",
        "\n",
        "#iqr = q3_3 - q1_3\n",
        "\n",
        "#l_bound = q1_1 - (1.5*iqr)\n",
        "#u_bound = q3_3 + (1.5 * iqr)\n",
        "\n",
        "#q1_3, q3_3 = np.percentile(finance['respondent_age'], [25, 75]) \n",
        "\n",
        "#iqr = q3_3 - q1_3\n",
        "\n",
        "#l_bound = q1_1 - (1.5*iqr)\n",
        "#u_bound = q3\n",
        "\n",
        "#u_bound = q3_3 + (1.5 * iqr)\n",
        "#print(iqr_1, iqr)\n",
        "#print(iqr_2, iqr)"
      ],
      "execution_count": 8,
      "outputs": []
    },
    {
      "cell_type": "code",
      "metadata": {
        "colab": {
          "base_uri": "https://localhost:8080/"
        },
        "id": "uR7BrukPCDzd",
        "outputId": "df860e74-c3a0-46af-a315-40c2c52d2e27"
      },
      "source": [
        "# Checking for missing data\n",
        "finance.isnull().any()\n",
        "finance.isnull().sum()\n",
        "\n",
        "# There are quite a number of null values in our dataset"
      ],
      "execution_count": 9,
      "outputs": [
        {
          "output_type": "execute_result",
          "data": {
            "text/plain": [
              "country                   14\n",
              "year                       0\n",
              "uniqueid                   0\n",
              "Has a Bank account        36\n",
              "Type of Location          15\n",
              "Cell Phone Access         11\n",
              "household_size            28\n",
              "Respondent Age            34\n",
              "gender_of_respondent      34\n",
              "The relathip with head     4\n",
              "marital_status            32\n",
              "Level of Educuation       29\n",
              "Type of Job               30\n",
              "dtype: int64"
            ]
          },
          "metadata": {
            "tags": []
          },
          "execution_count": 9
        }
      ]
    },
    {
      "cell_type": "code",
      "metadata": {
        "id": "IpRU2J5sCqri"
      },
      "source": [
        "# Dealing with the missing data\n",
        "finance.dropna(inplace=True)"
      ],
      "execution_count": 10,
      "outputs": []
    },
    {
      "cell_type": "code",
      "metadata": {
        "colab": {
          "base_uri": "https://localhost:8080/"
        },
        "id": "yhA2wX7BCPua",
        "outputId": "f59a9377-5bc0-4a26-f49e-59a65e29aa94"
      },
      "source": [
        "# Checking for consistency\n",
        "finance.duplicated().any()\n",
        "\n",
        "# There are no duplicate values in the dataset"
      ],
      "execution_count": 11,
      "outputs": [
        {
          "output_type": "execute_result",
          "data": {
            "text/plain": [
              "False"
            ]
          },
          "metadata": {
            "tags": []
          },
          "execution_count": 11
        }
      ]
    },
    {
      "cell_type": "code",
      "metadata": {
        "id": "hp1gBktUIWXa"
      },
      "source": [
        "# Checking for unwanted/unneccesary columns\n",
        "finance.drop(\"uniqueid\", axis=1, inplace=True)\n",
        "finance.drop(\"The relathip with head\", axis=1, inplace=True)"
      ],
      "execution_count": 12,
      "outputs": []
    },
    {
      "cell_type": "code",
      "metadata": {
        "colab": {
          "base_uri": "https://localhost:8080/",
          "height": 326
        },
        "id": "SvRGyn9IJWh8",
        "outputId": "e10f4bf2-a62e-43f8-cadc-75ffdfdba207"
      },
      "source": [
        "# #changing column names to lower case and placing underscore to make them more presentable\n",
        "finance.columns = finance.columns.str.strip().str.lower().str.replace(' ', '_').str.replace('(', '').str.replace(')', '')\n",
        "finance.head()"
      ],
      "execution_count": 13,
      "outputs": [
        {
          "output_type": "execute_result",
          "data": {
            "text/html": [
              "<div>\n",
              "<style scoped>\n",
              "    .dataframe tbody tr th:only-of-type {\n",
              "        vertical-align: middle;\n",
              "    }\n",
              "\n",
              "    .dataframe tbody tr th {\n",
              "        vertical-align: top;\n",
              "    }\n",
              "\n",
              "    .dataframe thead th {\n",
              "        text-align: right;\n",
              "    }\n",
              "</style>\n",
              "<table border=\"1\" class=\"dataframe\">\n",
              "  <thead>\n",
              "    <tr style=\"text-align: right;\">\n",
              "      <th></th>\n",
              "      <th>country</th>\n",
              "      <th>year</th>\n",
              "      <th>has_a_bank_account</th>\n",
              "      <th>type_of_location</th>\n",
              "      <th>cell_phone_access</th>\n",
              "      <th>household_size</th>\n",
              "      <th>respondent_age</th>\n",
              "      <th>gender_of_respondent</th>\n",
              "      <th>marital_status</th>\n",
              "      <th>level_of_educuation</th>\n",
              "      <th>type_of_job</th>\n",
              "    </tr>\n",
              "  </thead>\n",
              "  <tbody>\n",
              "    <tr>\n",
              "      <th>0</th>\n",
              "      <td>Kenya</td>\n",
              "      <td>2018</td>\n",
              "      <td>Yes</td>\n",
              "      <td>Rural</td>\n",
              "      <td>Yes</td>\n",
              "      <td>3.0</td>\n",
              "      <td>24.0</td>\n",
              "      <td>Female</td>\n",
              "      <td>Married/Living together</td>\n",
              "      <td>Secondary education</td>\n",
              "      <td>Self employed</td>\n",
              "    </tr>\n",
              "    <tr>\n",
              "      <th>1</th>\n",
              "      <td>Kenya</td>\n",
              "      <td>2018</td>\n",
              "      <td>No</td>\n",
              "      <td>Rural</td>\n",
              "      <td>No</td>\n",
              "      <td>5.0</td>\n",
              "      <td>70.0</td>\n",
              "      <td>Female</td>\n",
              "      <td>Widowed</td>\n",
              "      <td>No formal education</td>\n",
              "      <td>Government Dependent</td>\n",
              "    </tr>\n",
              "    <tr>\n",
              "      <th>2</th>\n",
              "      <td>Kenya</td>\n",
              "      <td>2018</td>\n",
              "      <td>Yes</td>\n",
              "      <td>Urban</td>\n",
              "      <td>Yes</td>\n",
              "      <td>5.0</td>\n",
              "      <td>26.0</td>\n",
              "      <td>Male</td>\n",
              "      <td>Single/Never Married</td>\n",
              "      <td>Vocational/Specialised training</td>\n",
              "      <td>Self employed</td>\n",
              "    </tr>\n",
              "    <tr>\n",
              "      <th>3</th>\n",
              "      <td>Kenya</td>\n",
              "      <td>2018</td>\n",
              "      <td>No</td>\n",
              "      <td>Rural</td>\n",
              "      <td>Yes</td>\n",
              "      <td>5.0</td>\n",
              "      <td>34.0</td>\n",
              "      <td>Female</td>\n",
              "      <td>Married/Living together</td>\n",
              "      <td>Primary education</td>\n",
              "      <td>Formally employed Private</td>\n",
              "    </tr>\n",
              "    <tr>\n",
              "      <th>4</th>\n",
              "      <td>Kenya</td>\n",
              "      <td>2018</td>\n",
              "      <td>No</td>\n",
              "      <td>Urban</td>\n",
              "      <td>No</td>\n",
              "      <td>8.0</td>\n",
              "      <td>26.0</td>\n",
              "      <td>Male</td>\n",
              "      <td>Single/Never Married</td>\n",
              "      <td>Primary education</td>\n",
              "      <td>Informally employed</td>\n",
              "    </tr>\n",
              "  </tbody>\n",
              "</table>\n",
              "</div>"
            ],
            "text/plain": [
              "  country  year  ...              level_of_educuation                type_of_job\n",
              "0   Kenya  2018  ...              Secondary education              Self employed\n",
              "1   Kenya  2018  ...              No formal education       Government Dependent\n",
              "2   Kenya  2018  ...  Vocational/Specialised training              Self employed\n",
              "3   Kenya  2018  ...                Primary education  Formally employed Private\n",
              "4   Kenya  2018  ...                Primary education        Informally employed\n",
              "\n",
              "[5 rows x 11 columns]"
            ]
          },
          "metadata": {
            "tags": []
          },
          "execution_count": 13
        }
      ]
    },
    {
      "cell_type": "code",
      "metadata": {
        "id": "_Lphh3tZKzB7",
        "colab": {
          "base_uri": "https://localhost:8080/"
        },
        "outputId": "76266253-28dd-4f18-a71e-92e6403ae85d"
      },
      "source": [
        "# Renaming the columns\n",
        "finance.rename(columns={'level_of_educuation':'level_of_education'},inplace=True)\n",
        "finance.dtypes"
      ],
      "execution_count": 46,
      "outputs": [
        {
          "output_type": "execute_result",
          "data": {
            "text/plain": [
              "country                  object\n",
              "year                      int64\n",
              "has_a_bank_account       object\n",
              "type_of_location         object\n",
              "cell_phone_access        object\n",
              "household_size          float64\n",
              "respondent_age          float64\n",
              "gender_of_respondent     object\n",
              "marital_status           object\n",
              "level_of_education       object\n",
              "type_of_job              object\n",
              "dtype: object"
            ]
          },
          "metadata": {
            "tags": []
          },
          "execution_count": 46
        }
      ]
    },
    {
      "cell_type": "code",
      "metadata": {
        "colab": {
          "base_uri": "https://localhost:8080/",
          "height": 592
        },
        "id": "3nB-mdwTviWa",
        "outputId": "a9d307d8-bc9c-43b1-d891-d12abfaf45df"
      },
      "source": [
        "# Dropping irrelevant data\n",
        "# We noticed that the year column has years > 2018 so we'd have to drop them\n",
        "finance.drop(finance[finance['year'] > 2018].index, inplace=True)\n",
        "finance"
      ],
      "execution_count": 47,
      "outputs": [
        {
          "output_type": "execute_result",
          "data": {
            "text/html": [
              "<div>\n",
              "<style scoped>\n",
              "    .dataframe tbody tr th:only-of-type {\n",
              "        vertical-align: middle;\n",
              "    }\n",
              "\n",
              "    .dataframe tbody tr th {\n",
              "        vertical-align: top;\n",
              "    }\n",
              "\n",
              "    .dataframe thead th {\n",
              "        text-align: right;\n",
              "    }\n",
              "</style>\n",
              "<table border=\"1\" class=\"dataframe\">\n",
              "  <thead>\n",
              "    <tr style=\"text-align: right;\">\n",
              "      <th></th>\n",
              "      <th>country</th>\n",
              "      <th>year</th>\n",
              "      <th>has_a_bank_account</th>\n",
              "      <th>type_of_location</th>\n",
              "      <th>cell_phone_access</th>\n",
              "      <th>household_size</th>\n",
              "      <th>respondent_age</th>\n",
              "      <th>gender_of_respondent</th>\n",
              "      <th>marital_status</th>\n",
              "      <th>level_of_education</th>\n",
              "      <th>type_of_job</th>\n",
              "    </tr>\n",
              "  </thead>\n",
              "  <tbody>\n",
              "    <tr>\n",
              "      <th>0</th>\n",
              "      <td>Kenya</td>\n",
              "      <td>2018</td>\n",
              "      <td>Yes</td>\n",
              "      <td>Rural</td>\n",
              "      <td>Yes</td>\n",
              "      <td>3.0</td>\n",
              "      <td>24.0</td>\n",
              "      <td>Female</td>\n",
              "      <td>Married/Living together</td>\n",
              "      <td>Secondary education</td>\n",
              "      <td>Self employed</td>\n",
              "    </tr>\n",
              "    <tr>\n",
              "      <th>1</th>\n",
              "      <td>Kenya</td>\n",
              "      <td>2018</td>\n",
              "      <td>No</td>\n",
              "      <td>Rural</td>\n",
              "      <td>No</td>\n",
              "      <td>5.0</td>\n",
              "      <td>70.0</td>\n",
              "      <td>Female</td>\n",
              "      <td>Widowed</td>\n",
              "      <td>No formal education</td>\n",
              "      <td>Government Dependent</td>\n",
              "    </tr>\n",
              "    <tr>\n",
              "      <th>2</th>\n",
              "      <td>Kenya</td>\n",
              "      <td>2018</td>\n",
              "      <td>Yes</td>\n",
              "      <td>Urban</td>\n",
              "      <td>Yes</td>\n",
              "      <td>5.0</td>\n",
              "      <td>26.0</td>\n",
              "      <td>Male</td>\n",
              "      <td>Single/Never Married</td>\n",
              "      <td>Vocational/Specialised training</td>\n",
              "      <td>Self employed</td>\n",
              "    </tr>\n",
              "    <tr>\n",
              "      <th>3</th>\n",
              "      <td>Kenya</td>\n",
              "      <td>2018</td>\n",
              "      <td>No</td>\n",
              "      <td>Rural</td>\n",
              "      <td>Yes</td>\n",
              "      <td>5.0</td>\n",
              "      <td>34.0</td>\n",
              "      <td>Female</td>\n",
              "      <td>Married/Living together</td>\n",
              "      <td>Primary education</td>\n",
              "      <td>Formally employed Private</td>\n",
              "    </tr>\n",
              "    <tr>\n",
              "      <th>4</th>\n",
              "      <td>Kenya</td>\n",
              "      <td>2018</td>\n",
              "      <td>No</td>\n",
              "      <td>Urban</td>\n",
              "      <td>No</td>\n",
              "      <td>8.0</td>\n",
              "      <td>26.0</td>\n",
              "      <td>Male</td>\n",
              "      <td>Single/Never Married</td>\n",
              "      <td>Primary education</td>\n",
              "      <td>Informally employed</td>\n",
              "    </tr>\n",
              "    <tr>\n",
              "      <th>...</th>\n",
              "      <td>...</td>\n",
              "      <td>...</td>\n",
              "      <td>...</td>\n",
              "      <td>...</td>\n",
              "      <td>...</td>\n",
              "      <td>...</td>\n",
              "      <td>...</td>\n",
              "      <td>...</td>\n",
              "      <td>...</td>\n",
              "      <td>...</td>\n",
              "      <td>...</td>\n",
              "    </tr>\n",
              "    <tr>\n",
              "      <th>23519</th>\n",
              "      <td>Uganda</td>\n",
              "      <td>2018</td>\n",
              "      <td>No</td>\n",
              "      <td>Rural</td>\n",
              "      <td>Yes</td>\n",
              "      <td>4.0</td>\n",
              "      <td>48.0</td>\n",
              "      <td>Female</td>\n",
              "      <td>Divorced/Seperated</td>\n",
              "      <td>No formal education</td>\n",
              "      <td>Other Income</td>\n",
              "    </tr>\n",
              "    <tr>\n",
              "      <th>23520</th>\n",
              "      <td>Uganda</td>\n",
              "      <td>2018</td>\n",
              "      <td>No</td>\n",
              "      <td>Rural</td>\n",
              "      <td>Yes</td>\n",
              "      <td>2.0</td>\n",
              "      <td>27.0</td>\n",
              "      <td>Female</td>\n",
              "      <td>Single/Never Married</td>\n",
              "      <td>Secondary education</td>\n",
              "      <td>Other Income</td>\n",
              "    </tr>\n",
              "    <tr>\n",
              "      <th>23521</th>\n",
              "      <td>Uganda</td>\n",
              "      <td>2018</td>\n",
              "      <td>No</td>\n",
              "      <td>Rural</td>\n",
              "      <td>Yes</td>\n",
              "      <td>5.0</td>\n",
              "      <td>27.0</td>\n",
              "      <td>Female</td>\n",
              "      <td>Widowed</td>\n",
              "      <td>Primary education</td>\n",
              "      <td>Other Income</td>\n",
              "    </tr>\n",
              "    <tr>\n",
              "      <th>23522</th>\n",
              "      <td>Uganda</td>\n",
              "      <td>2018</td>\n",
              "      <td>No</td>\n",
              "      <td>Urban</td>\n",
              "      <td>Yes</td>\n",
              "      <td>7.0</td>\n",
              "      <td>30.0</td>\n",
              "      <td>Female</td>\n",
              "      <td>Divorced/Seperated</td>\n",
              "      <td>Secondary education</td>\n",
              "      <td>Self employed</td>\n",
              "    </tr>\n",
              "    <tr>\n",
              "      <th>23523</th>\n",
              "      <td>Uganda</td>\n",
              "      <td>2018</td>\n",
              "      <td>No</td>\n",
              "      <td>Rural</td>\n",
              "      <td>Yes</td>\n",
              "      <td>10.0</td>\n",
              "      <td>20.0</td>\n",
              "      <td>Male</td>\n",
              "      <td>Single/Never Married</td>\n",
              "      <td>Secondary education</td>\n",
              "      <td>No Income</td>\n",
              "    </tr>\n",
              "  </tbody>\n",
              "</table>\n",
              "<p>23340 rows × 11 columns</p>\n",
              "</div>"
            ],
            "text/plain": [
              "      country  year  ...               level_of_education                type_of_job\n",
              "0       Kenya  2018  ...              Secondary education              Self employed\n",
              "1       Kenya  2018  ...              No formal education       Government Dependent\n",
              "2       Kenya  2018  ...  Vocational/Specialised training              Self employed\n",
              "3       Kenya  2018  ...                Primary education  Formally employed Private\n",
              "4       Kenya  2018  ...                Primary education        Informally employed\n",
              "...       ...   ...  ...                              ...                        ...\n",
              "23519  Uganda  2018  ...              No formal education               Other Income\n",
              "23520  Uganda  2018  ...              Secondary education               Other Income\n",
              "23521  Uganda  2018  ...                Primary education               Other Income\n",
              "23522  Uganda  2018  ...              Secondary education              Self employed\n",
              "23523  Uganda  2018  ...              Secondary education                  No Income\n",
              "\n",
              "[23340 rows x 11 columns]"
            ]
          },
          "metadata": {
            "tags": []
          },
          "execution_count": 47
        }
      ]
    },
    {
      "cell_type": "markdown",
      "metadata": {
        "id": "oCnfInfLd2Q0"
      },
      "source": [
        "# 7. Exploratory Data Analysis"
      ]
    },
    {
      "cell_type": "markdown",
      "metadata": {
        "id": "0c3jmBRSeJrf"
      },
      "source": [
        "# Univariate Analysis"
      ]
    },
    {
      "cell_type": "markdown",
      "metadata": {
        "id": "1iyajxPreqwM"
      },
      "source": [
        "## Categorical Variables"
      ]
    },
    {
      "cell_type": "markdown",
      "metadata": {
        "id": "ZbHYsN_N4ove"
      },
      "source": [
        "### Frequency Tables"
      ]
    },
    {
      "cell_type": "code",
      "metadata": {
        "colab": {
          "base_uri": "https://localhost:8080/"
        },
        "id": "SmLScK4TepuK",
        "outputId": "02022426-9753-45cd-f00a-8190fec012da"
      },
      "source": [
        "# Frequency Tables\n",
        "gender = finance.gender_of_respondent.value_counts()\n",
        "print(\"The frequency table of gender is: \\n\", gender)\n",
        "print(\"\\n\")\n",
        "\n",
        "country = finance.country.value_counts()\n",
        "print(\"The frequency table of countries is: \\n\", country)\n",
        "print(\"\\n\")\n",
        "\n",
        "bank = finance.has_a_bank_account.value_counts()\n",
        "print(\"The frequency table of people with bank accounts: \\n\", bank)\n",
        "print(\"\\n\")\n",
        "\n",
        "education = finance.cell_phone_access.value_counts()\n",
        "print(\"The frequency table of people with cell phone access: \\n\", education)\n",
        "print(\"\\n\")\n",
        "\n",
        "location = finance.type_of_location.value_counts()\n",
        "print(\"The frequency table of the type of location: \\n\", location)\n",
        "print(\"\\n\")"
      ],
      "execution_count": 16,
      "outputs": [
        {
          "output_type": "stream",
          "text": [
            "The frequency table of gender is: \n",
            " Female    13766\n",
            "Male       9574\n",
            "Name: gender_of_respondent, dtype: int64\n",
            "\n",
            "\n",
            "The frequency table of countries is: \n",
            " Rwanda      8683\n",
            "Tanzania    6500\n",
            "Kenya       6062\n",
            "Uganda      2095\n",
            "Name: country, dtype: int64\n",
            "\n",
            "\n",
            "The frequency table of people with bank accounts: \n",
            " No     20044\n",
            "Yes     3296\n",
            "Name: has_a_bank_account, dtype: int64\n",
            "\n",
            "\n",
            "The frequency table of people with cell phone access: \n",
            " Yes    17331\n",
            "No      6009\n",
            "Name: cell_phone_access, dtype: int64\n",
            "\n",
            "\n",
            "The frequency table of the type of location: \n",
            " Rural    14263\n",
            "Urban     9077\n",
            "Name: type_of_location, dtype: int64\n",
            "\n",
            "\n"
          ],
          "name": "stdout"
        }
      ]
    },
    {
      "cell_type": "markdown",
      "metadata": {
        "id": "ojIQPezK4xNF"
      },
      "source": [
        "### Histograms"
      ]
    },
    {
      "cell_type": "code",
      "metadata": {
        "colab": {
          "base_uri": "https://localhost:8080/",
          "height": 513
        },
        "id": "QKXVUiPMeFjl",
        "outputId": "8f71125e-af66-4d46-954f-e215a8cefb44"
      },
      "source": [
        "# Histogram of household size\n",
        "household_size = finance['household_size']\n",
        "fig=plt.figure(figsize=(10,8))\n",
        "plt.hist(household_size, bins=10, histtype='bar', color='brown', rwidth=0.9)\n",
        "plt.title(\"Histogram of the household size vs number of households\")\n",
        "plt.xlabel(\"Size of households\")\n",
        "plt.ylabel(\"Number of households\")\n",
        "plt.show()"
      ],
      "execution_count": 17,
      "outputs": [
        {
          "output_type": "display_data",
          "data": {
            "image/png": "[encoded data removed]",
            "text/plain": [
              "<Figure size 720x576 with 1 Axes>"
            ]
          },
          "metadata": {
            "tags": [],
            "needs_background": "light"
          }
        }
      ]
    },
    {
      "cell_type": "code",
      "metadata": {
        "colab": {
          "base_uri": "https://localhost:8080/",
          "height": 513
        },
        "id": "xZmxnko8nEFD",
        "outputId": "71d5f860-3f7f-445c-bb68-52c61b3ff15b"
      },
      "source": [
        "# Histogram of respondents' age\n",
        "age = finance['respondent_age']\n",
        "fig=plt.figure(figsize=(10,8))\n",
        "plt.hist(age, bins=10, histtype='bar', color='yellow', rwidth=0.9)\n",
        "plt.title(\"Histogram of the age of respondent vs number of respondents\")\n",
        "plt.xlabel(\"Age of respondent\")\n",
        "plt.ylabel(\"Number of respondents\")\n",
        "plt.show()"
      ],
      "execution_count": 18,
      "outputs": [
        {
          "output_type": "display_data",
          "data": {
            "image/png": "[encoded data removed]",
            "text/plain": [
              "<Figure size 720x576 with 1 Axes>"
            ]
          },
          "metadata": {
            "tags": [],
            "needs_background": "light"
          }
        }
      ]
    },
    {
      "cell_type": "markdown",
      "metadata": {
        "id": "J4mGHP194cGA"
      },
      "source": [
        "### Pie charts"
      ]
    },
    {
      "cell_type": "code",
      "metadata": {
        "colab": {
          "base_uri": "https://localhost:8080/",
          "height": 286
        },
        "id": "O_UWr-JxrOaS",
        "outputId": "63e6965f-5fba-4ddb-9406-69ca35dcde32"
      },
      "source": [
        "# Pie chart of gender distribution\n",
        "#finance['gender_of_respondent'].value_counts().plot(kind='pie')\n",
        "finance['gender_of_respondent'].value_counts().plot(kind='pie',colors=['violet','green'], autopct='%1.1f%%')\n",
        "fig=plt.gcf()\n",
        "#fig.set_size_inches(10,10)\n",
        "#plt.pie(gender,labels= gender,colors=colors,autopct = '%1.1f%%', shadow = True, startangle = 140)\n",
        "plt.axis('equal')\n",
        "plt.legend(loc='upper right')\n",
        "plt.title('Pie Chart of Gender population', y=1.1)\n",
        "plt.show()"
      ],
      "execution_count": 19,
      "outputs": [
        {
          "output_type": "display_data",
          "data": {
            "image/png": "[encoded data removed]",
            "text/plain": [
              "<Figure size 432x288 with 1 Axes>"
            ]
          },
          "metadata": {
            "tags": []
          }
        }
      ]
    },
    {
      "cell_type": "code",
      "metadata": {
        "colab": {
          "base_uri": "https://localhost:8080/",
          "height": 286
        },
        "id": "GJb1VoM20cz8",
        "outputId": "03784232-0ed5-4e43-9a33-a5d89001eeb3"
      },
      "source": [
        "# Pie chart of people who have a bank account or not\n",
        "finance['has_a_bank_account'].value_counts().plot(kind='pie',colors=['blue','orange'], autopct='%1.1f%%')\n",
        "plt.title(\"Pie chart of people with bank accounts\", y=1.1)\n",
        "plt.show()"
      ],
      "execution_count": 20,
      "outputs": [
        {
          "output_type": "display_data",
          "data": {
            "image/png": "[encoded data removed]",
            "text/plain": [
              "<Figure size 432x288 with 1 Axes>"
            ]
          },
          "metadata": {
            "tags": []
          }
        }
      ]
    },
    {
      "cell_type": "code",
      "metadata": {
        "colab": {
          "base_uri": "https://localhost:8080/",
          "height": 286
        },
        "id": "cENFPskV0mCY",
        "outputId": "693ad0e2-a127-4733-f9db-45414e3d8269"
      },
      "source": [
        "# Pie chart for type of location\n",
        "finance['type_of_location'].value_counts().plot(kind='pie',colors=['pink','red'], autopct='%1.1f%%')\n",
        "plt.title(\"Pie chart of the type of location\", y=1.1)\n",
        "plt.show()"
      ],
      "execution_count": 21,
      "outputs": [
        {
          "output_type": "display_data",
          "data": {
            "image/png": "[encoded data removed]",
            "text/plain": [
              "<Figure size 432x288 with 1 Axes>"
            ]
          },
          "metadata": {
            "tags": []
          }
        }
      ]
    },
    {
      "cell_type": "code",
      "metadata": {
        "colab": {
          "base_uri": "https://localhost:8080/",
          "height": 645
        },
        "id": "odmhzSi11Ag8",
        "outputId": "f7ea07fd-1c02-4830-b6ac-0aa4fca24788"
      },
      "source": [
        "# Pie chart of type of job\n",
        "finance['type_of_job'].value_counts().plot(kind='pie', autopct='%1.1f%%')\n",
        "fig=plt.gcf()\n",
        "fig.set_size_inches(10,10)\n",
        "plt.title(\"Pie chart of the type of job\", y=1.1)\n",
        "plt.show()"
      ],
      "execution_count": 22,
      "outputs": [
        {
          "output_type": "display_data",
          "data": {
            "image/png": "[encoded data removed]",
            "text/plain": [
              "<Figure size 720x720 with 1 Axes>"
            ]
          },
          "metadata": {
            "tags": []
          }
        }
      ]
    },
    {
      "cell_type": "code",
      "metadata": {
        "colab": {
          "base_uri": "https://localhost:8080/",
          "height": 286
        },
        "id": "xvS9NYqg1TDP",
        "outputId": "04fd6391-caea-4683-d21a-7d718433558c"
      },
      "source": [
        "# Pie chart of cell phone access \n",
        "finance['cell_phone_access'].value_counts().plot(kind='pie',colors=['purple','orange'], autopct='%1.1f%%')\n",
        "plt.title(\"Pie chart of people with cell phone access\",y=1.1)\n",
        "plt.show()"
      ],
      "execution_count": 23,
      "outputs": [
        {
          "output_type": "display_data",
          "data": {
            "image/png": "[encoded data removed]",
            "text/plain": [
              "<Figure size 432x288 with 1 Axes>"
            ]
          },
          "metadata": {
            "tags": []
          }
        }
      ]
    },
    {
      "cell_type": "code",
      "metadata": {
        "colab": {
          "base_uri": "https://localhost:8080/",
          "height": 248
        },
        "id": "PPz6vlCU3Pr8",
        "outputId": "38ad2439-1690-4f51-f27a-7a5ed0219df8"
      },
      "source": [
        "# Pie chart of marital status\n",
        "finance['marital_status'].value_counts().plot(kind='pie', autopct='%1.1f%%')\n",
        "plt.show()"
      ],
      "execution_count": 24,
      "outputs": [
        {
          "output_type": "display_data",
          "data": {
            "image/png": "[encoded data removed]",
            "text/plain": [
              "<Figure size 432x288 with 1 Axes>"
            ]
          },
          "metadata": {
            "tags": []
          }
        }
      ]
    },
    {
      "cell_type": "markdown",
      "metadata": {
        "id": "hWM_jTVE5s5Q"
      },
      "source": [
        "## Numerical Variables"
      ]
    },
    {
      "cell_type": "markdown",
      "metadata": {
        "id": "Bk08XDen6QDz"
      },
      "source": [
        "### Measures of central tendency"
      ]
    },
    {
      "cell_type": "code",
      "metadata": {
        "colab": {
          "base_uri": "https://localhost:8080/"
        },
        "id": "tlA_6uNn5x7c",
        "outputId": "91d5197e-3c3e-43a2-d50a-32579d376d51"
      },
      "source": [
        "# Measures of central tendency for the household size\n",
        "# Mean \n",
        "household_mean = finance['household_size'].mean()\n",
        "print(\"The average household size is: \\n\", household_mean)\n",
        "print('\\n')\n",
        "\n",
        "# Mode \n",
        "household_mode = finance['household_size'].mode()\n",
        "print(\"The mode of the household size is: \\n\", household_mode)\n",
        "print('\\n')\n",
        "\n",
        "# Median\n",
        "household_median = finance['household_size'].median()\n",
        "print(\"The median of the household size: \\n\", household_median)\n",
        "print('\\n')\n",
        "\n"
      ],
      "execution_count": 25,
      "outputs": [
        {
          "output_type": "stream",
          "text": [
            "The average household size is: \n",
            " 3.688560411311054\n",
            "\n",
            "\n",
            "The mode of the household size is: \n",
            " 0    2.0\n",
            "dtype: float64\n",
            "\n",
            "\n",
            "The median of the household size: \n",
            " 3.0\n",
            "\n",
            "\n"
          ],
          "name": "stdout"
        }
      ]
    },
    {
      "cell_type": "code",
      "metadata": {
        "colab": {
          "base_uri": "https://localhost:8080/"
        },
        "id": "Q83oEx176WKG",
        "outputId": "fc48dad8-b561-4d72-b1b0-4047baa9580d"
      },
      "source": [
        "# Measures of central tendency for the respondents' age\n",
        "# Mean \n",
        "age_mean = finance['respondent_age'].mean()\n",
        "print(\"The average respondents' age is: \\n\", age_mean)\n",
        "print('\\n')\n",
        "\n",
        "# Mode \n",
        "age_mode = finance['respondent_age'].mode()\n",
        "print(\"The mode of the respondents' age is: \\n\", age_mode)\n",
        "print('\\n')\n",
        "\n",
        "# Median\n",
        "age_median = finance['respondent_age'].median()\n",
        "print(\"The median of the respondents' age is: \\n\", age_median)\n",
        "print('\\n')\n"
      ],
      "execution_count": 26,
      "outputs": [
        {
          "output_type": "stream",
          "text": [
            "The average respondents' age is: \n",
            " 38.80706940874036\n",
            "\n",
            "\n",
            "The mode of the respondents' age is: \n",
            " 0    30.0\n",
            "dtype: float64\n",
            "\n",
            "\n",
            "The median of the respondents' age is: \n",
            " 35.0\n",
            "\n",
            "\n"
          ],
          "name": "stdout"
        }
      ]
    },
    {
      "cell_type": "markdown",
      "metadata": {
        "id": "Unbl3qcJ-K9s"
      },
      "source": [
        "### Measures of Dispersion\n"
      ]
    },
    {
      "cell_type": "code",
      "metadata": {
        "colab": {
          "base_uri": "https://localhost:8080/"
        },
        "id": "A9hDFv6T-WTn",
        "outputId": "82d2cac8-6638-4eed-966d-ef5aaf288a04"
      },
      "source": [
        "# Standard Deviation\n",
        "household_std = finance['household_size'].std()\n",
        "print(\"The standard deviation of the household size is: \\n\", household_std)\n",
        "print('\\n')\n",
        "\n",
        "age_std = finance['respondent_age'].std()\n",
        "print(\"The standard deviation of the respondent age is: \\n\", age_std)\n",
        "print('\\n')\n"
      ],
      "execution_count": 27,
      "outputs": [
        {
          "output_type": "stream",
          "text": [
            "The standard deviation of the household size is: \n",
            " 2.2812745975350435\n",
            "\n",
            "\n",
            "The standard deviation of the respondent age is: \n",
            " 16.519904564514412\n",
            "\n",
            "\n"
          ],
          "name": "stdout"
        }
      ]
    },
    {
      "cell_type": "code",
      "metadata": {
        "colab": {
          "base_uri": "https://localhost:8080/"
        },
        "id": "vMhbSr7dO2go",
        "outputId": "b5eae609-cf63-4fce-8cdb-57a93e41b5c1"
      },
      "source": [
        "# Variance\n",
        "household_var = finance['household_size'].var()\n",
        "print(\"The variance of the household size is: \\n\", household_var)\n",
        "print('\\n')\n",
        "\n",
        "age_var = finance['respondent_age'].var()\n",
        "print(\"The variance of the respondents' ages is: \\n\", age_var)\n",
        "print('\\n')"
      ],
      "execution_count": 28,
      "outputs": [
        {
          "output_type": "stream",
          "text": [
            "The variance of the household size is: \n",
            " 5.204213789358675\n",
            "\n",
            "\n",
            "The variance of the respondents' ages is: \n",
            " 272.90724682066417\n",
            "\n",
            "\n"
          ],
          "name": "stdout"
        }
      ]
    },
    {
      "cell_type": "code",
      "metadata": {
        "colab": {
          "base_uri": "https://localhost:8080/"
        },
        "id": "6qcNNfFbO6sz",
        "outputId": "2f6669c8-5bc7-48c6-81da-709a3371432e"
      },
      "source": [
        "# Range\n",
        "household_max = finance['household_size'].max()\n",
        "household_min = finance['household_size'].min()\n",
        "range = household_max - household_min \n",
        "print(\"The range in the household size is: \\n\", range)\n",
        "print('\\n')\n",
        "\n",
        "age_max = finance['respondent_age'].max()\n",
        "age_min = finance['respondent_age'].min()\n",
        "range = age_max - age_min \n",
        "print(\"The range in the respondent  is: \\n\", range)\n",
        "print('\\n')"
      ],
      "execution_count": 29,
      "outputs": [
        {
          "output_type": "stream",
          "text": [
            "The range in the household size is: \n",
            " 21.0\n",
            "\n",
            "\n",
            "The range in the respondent  is: \n",
            " 84.0\n",
            "\n",
            "\n"
          ],
          "name": "stdout"
        }
      ]
    },
    {
      "cell_type": "code",
      "metadata": {
        "colab": {
          "base_uri": "https://localhost:8080/"
        },
        "id": "sMvxmKs2O9CU",
        "outputId": "58589e87-0d8c-413a-c525-2a9a580627bf"
      },
      "source": [
        "# Quantiles\n",
        "household_quantiles = finance['household_size'].quantile([0.25,0.50,0.75])\n",
        "print(\"The quantiles for the household size are: \\n\", household_quantiles)\n",
        "print('\\n')\n",
        "\n",
        "household_quantiles = finance['respondent_age'].quantile([0.25,0.50,0.75])\n",
        "print(\"The quantiles for the respondents' age are: \\n\", household_quantiles)\n",
        "print('\\n')"
      ],
      "execution_count": 30,
      "outputs": [
        {
          "output_type": "stream",
          "text": [
            "The quantiles for the household size are: \n",
            " 0.25    2.0\n",
            "0.50    3.0\n",
            "0.75    5.0\n",
            "Name: household_size, dtype: float64\n",
            "\n",
            "\n",
            "The quantiles for the respondents' age are: \n",
            " 0.25    26.0\n",
            "0.50    35.0\n",
            "0.75    49.0\n",
            "Name: respondent_age, dtype: float64\n",
            "\n",
            "\n"
          ],
          "name": "stdout"
        }
      ]
    },
    {
      "cell_type": "code",
      "metadata": {
        "id": "0omJl1cGPCR9",
        "colab": {
          "base_uri": "https://localhost:8080/"
        },
        "outputId": "9dffe7f5-83e2-4f7e-c249-7aecc7c28127"
      },
      "source": [
        "# Skewness\n",
        "house_skew = finance['household_size'].skew()\n",
        "print(\"The skewness of the household size is: \\n\", house_skew)\n",
        "if house_skew == 0:\n",
        "  print(\"The distribution is symmetrical\")\n",
        "elif house_skew > 0:\n",
        "  print(\"The distribution is positively skewed\")\n",
        "else:\n",
        "  print(\"The distribution is negatively skewed\")\n",
        "print('\\n')\n",
        "\n",
        "age_skew = finance['respondent_age'].skew()\n",
        "print(\"The skewness of the respondent age is: \\n\", age_skew)\n",
        "if age_skew == 0:\n",
        "  print(\"The distribution is symmetrical\")\n",
        "elif age_skew > 0:\n",
        "  print(\"The distribution is positively skewed\")\n",
        "else:\n",
        "  print(\"The distribution is negatively skewed\")\n",
        "print('\\n')"
      ],
      "execution_count": 31,
      "outputs": [
        {
          "output_type": "stream",
          "text": [
            "The skewness of the household size is: \n",
            " 0.9741827150450616\n",
            "The distribution is positively skewed\n",
            "\n",
            "\n",
            "The skewness of the respondent age is: \n",
            " 0.8406145812311228\n",
            "The distribution is positively skewed\n",
            "\n",
            "\n"
          ],
          "name": "stdout"
        }
      ]
    },
    {
      "cell_type": "code",
      "metadata": {
        "id": "LEOpIEsNPEUs",
        "colab": {
          "base_uri": "https://localhost:8080/"
        },
        "outputId": "d961e01e-9154-41ac-b4b0-1fa9a155396b"
      },
      "source": [
        "# Kurtosis\n",
        "house_kurt = finance['household_size'].kurt()\n",
        "print(\"The kurtosis of the household size is: \\n\", house_kurt)\n",
        "\n",
        "if house_kurt > 0:\n",
        "  print(\"The household size column is leptokurtic\")\n",
        "elif house_kurt < 0:\n",
        "  print(\"The household size is platykurtic\")\n",
        "else:\n",
        "  print(\"The household size is mesokurtic\")\n",
        "print('\\n') \n",
        "\n",
        "age_kurt = finance['respondent_age'].kurt()\n",
        "print(\"The kurtosis of the respondent_age is: \\n\", age_kurt)\n",
        "\n",
        "if age_kurt > 0:\n",
        "  print(\"The household size column is leptokurtic\")\n",
        "elif age_kurt < 0:\n",
        "  print(\"The household size is platykurtic\")\n",
        "else:\n",
        "  print(\"The household size is mesokurtic\")\n",
        "print('\\n') "
      ],
      "execution_count": 32,
      "outputs": [
        {
          "output_type": "stream",
          "text": [
            "The kurtosis of the household size is: \n",
            " 1.1538357462528523\n",
            "The household size column is leptokurtic\n",
            "\n",
            "\n",
            "The kurtosis of the respondent_age is: \n",
            " 0.09826807013177241\n",
            "The household size column is leptokurtic\n",
            "\n",
            "\n"
          ],
          "name": "stdout"
        }
      ]
    },
    {
      "cell_type": "code",
      "metadata": {
        "colab": {
          "base_uri": "https://localhost:8080/"
        },
        "id": "-STAK_7AI946",
        "outputId": "e1ff5b77-fcfc-41cb-972d-4778d8806b33"
      },
      "source": [
        "# Summary statistics\n",
        "house = finance['household_size'].describe()\n",
        "print(\"The summary statistics for the household size are: \\n\", house)\n",
        "print('\\n')\n",
        "age = finance['respondent_age'].describe()\n",
        "print(\"The summary statistics for the respondents' age are: \\n\", age)"
      ],
      "execution_count": 33,
      "outputs": [
        {
          "output_type": "stream",
          "text": [
            "The summary statistics for the household size are: \n",
            " count    23340.000000\n",
            "mean         3.688560\n",
            "std          2.281275\n",
            "min          0.000000\n",
            "25%          2.000000\n",
            "50%          3.000000\n",
            "75%          5.000000\n",
            "max         21.000000\n",
            "Name: household_size, dtype: float64\n",
            "\n",
            "\n",
            "The summary statistics for the respondents' age are: \n",
            " count    23340.000000\n",
            "mean        38.807069\n",
            "std         16.519905\n",
            "min         16.000000\n",
            "25%         26.000000\n",
            "50%         35.000000\n",
            "75%         49.000000\n",
            "max        100.000000\n",
            "Name: respondent_age, dtype: float64\n"
          ],
          "name": "stdout"
        }
      ]
    },
    {
      "cell_type": "markdown",
      "metadata": {
        "id": "i2WV7aE1LUyv"
      },
      "source": [
        "### Visualization techniques"
      ]
    },
    {
      "cell_type": "code",
      "metadata": {
        "colab": {
          "base_uri": "https://localhost:8080/",
          "height": 351
        },
        "id": "jGI7dSYKKowM",
        "outputId": "f9a527fc-983e-43d0-cab3-7698a59a313d"
      },
      "source": [
        "# Boxplot of respondents' age\n",
        "sns.boxplot(finance['respondent_age'], showmeans=True)"
      ],
      "execution_count": 34,
      "outputs": [
        {
          "output_type": "stream",
          "text": [
            "/usr/local/lib/python3.7/dist-packages/seaborn/_decorators.py:43: FutureWarning: Pass the following variable as a keyword arg: x. From version 0.12, the only valid positional argument will be `data`, and passing other arguments without an explicit keyword will result in an error or misinterpretation.\n",
            "  FutureWarning\n"
          ],
          "name": "stderr"
        },
        {
          "output_type": "execute_result",
          "data": {
            "text/plain": [
              "<matplotlib.axes._subplots.AxesSubplot at 0x7f30d5853a10>"
            ]
          },
          "metadata": {
            "tags": []
          },
          "execution_count": 34
        },
        {
          "output_type": "display_data",
          "data": {
            "image/png": "[encoded data removed]",
            "text/plain": [
              "<Figure size 432x288 with 1 Axes>"
            ]
          },
          "metadata": {
            "tags": [],
            "needs_background": "light"
          }
        }
      ]
    },
    {
      "cell_type": "code",
      "metadata": {
        "colab": {
          "base_uri": "https://localhost:8080/",
          "height": 351
        },
        "id": "7xW37tZKJB5Y",
        "outputId": "010dde35-2d73-4bac-c087-18ae11df1e6a"
      },
      "source": [
        "sns.boxplot(finance['household_size'], showmeans=True)"
      ],
      "execution_count": 35,
      "outputs": [
        {
          "output_type": "stream",
          "text": [
            "/usr/local/lib/python3.7/dist-packages/seaborn/_decorators.py:43: FutureWarning: Pass the following variable as a keyword arg: x. From version 0.12, the only valid positional argument will be `data`, and passing other arguments without an explicit keyword will result in an error or misinterpretation.\n",
            "  FutureWarning\n"
          ],
          "name": "stderr"
        },
        {
          "output_type": "execute_result",
          "data": {
            "text/plain": [
              "<matplotlib.axes._subplots.AxesSubplot at 0x7f30d57127d0>"
            ]
          },
          "metadata": {
            "tags": []
          },
          "execution_count": 35
        },
        {
          "output_type": "display_data",
          "data": {
            "image/png": "[encoded data removed]",
            "text/plain": [
              "<Figure size 432x288 with 1 Axes>"
            ]
          },
          "metadata": {
            "tags": [],
            "needs_background": "light"
          }
        }
      ]
    },
    {
      "cell_type": "markdown",
      "metadata": {
        "id": "vot8MjyFaYcx"
      },
      "source": [
        "## Findings and Recommendations"
      ]
    },
    {
      "cell_type": "markdown",
      "metadata": {
        "id": "WrLSqyNzalTZ"
      },
      "source": [
        "- We were able to determine that most respondents who were interviewed were female. \n",
        "- We then realized that most respondents who were interviewed did not have bank accounts. \n",
        "- We were also able to determine that most respondents lived in rural locations.\n",
        "\n",
        "Based on the above findings, we would recommend that awareness on the importance of financial services such as bank accounts to be made to people living in rural locations."
      ]
    },
    {
      "cell_type": "markdown",
      "metadata": {
        "id": "UY-xsK6LLv4s"
      },
      "source": [
        "# Bivariate Analysis "
      ]
    },
    {
      "cell_type": "markdown",
      "metadata": {
        "id": "w3o4rQQBmsXF"
      },
      "source": [
        "### Numerical and Numerical Variables"
      ]
    },
    {
      "cell_type": "code",
      "metadata": {
        "colab": {
          "base_uri": "https://localhost:8080/",
          "height": 303
        },
        "id": "BbNLdl80mz7Q",
        "outputId": "d2c50b44-f4f4-4e78-df9c-3d345f73d82b"
      },
      "source": [
        "# Scatter plots\n",
        "# First we can group the respondents' ages by household sizes\n",
        "size=finance.groupby('respondent_age')['household_size'].count().reset_index(name='total number of households')\n",
        "size\n",
        "plt.scatter(size[\"respondent_age\"] , size[\"total number of households\"])\n",
        "plt.title(\"Scatter plot between respondent age and the total number of households\", y=1.1)\n",
        "plt.show()\n"
      ],
      "execution_count": 36,
      "outputs": [
        {
          "output_type": "display_data",
          "data": {
            "image/png": "[encoded data removed]",
            "text/plain": [
              "<Figure size 432x288 with 1 Axes>"
            ]
          },
          "metadata": {
            "tags": [],
            "needs_background": "light"
          }
        }
      ]
    },
    {
      "cell_type": "code",
      "metadata": {
        "colab": {
          "base_uri": "https://localhost:8080/"
        },
        "id": "j4ZKybH4pAZn",
        "outputId": "5a996580-f13b-4811-a3b7-f135e7144e38"
      },
      "source": [
        "# Correlation \n",
        "# We can use the correlation matrix \n",
        "correlation = finance['respondent_age'].corr(finance['household_size'])\n",
        "print(\"The correlation matrix is: \\n\", correlation)\n",
        "print('\\n')\n",
        "\n",
        "if correlation == 0:\n",
        "  print(\"The respondent's age has no correlation with the household size\")\n",
        "elif correlation > 0:\n",
        "  print(\"The respondent's age is positively correlated to the household size\")\n",
        "else:\n",
        "  print(\"The respondent's age is negatively correlated to the household size\")\n",
        "print('\\n')\n"
      ],
      "execution_count": 37,
      "outputs": [
        {
          "output_type": "stream",
          "text": [
            "The correlation matrix is: \n",
            " -0.11967115234154871\n",
            "\n",
            "\n",
            "The respondent's age is negatively correlated to the household size\n",
            "\n",
            "\n"
          ],
          "name": "stdout"
        }
      ]
    },
    {
      "cell_type": "code",
      "metadata": {
        "colab": {
          "base_uri": "https://localhost:8080/",
          "height": 270
        },
        "id": "sAO3UVEws7Ex",
        "outputId": "7eeb362e-924b-46aa-ee14-bf7bdca7df1b"
      },
      "source": [
        "# Showing correlation on a heat map\n",
        "sns.heatmap(finance.corr(),annot=True)\n",
        "plt.show()"
      ],
      "execution_count": 38,
      "outputs": [
        {
          "output_type": "display_data",
          "data": {
            "image/png": "[encoded data removed]",
            "text/plain": [
              "<Figure size 432x288 with 2 Axes>"
            ]
          },
          "metadata": {
            "tags": [],
            "needs_background": "light"
          }
        }
      ]
    },
    {
      "cell_type": "markdown",
      "metadata": {
        "id": "x4VWjsV15Y5V"
      },
      "source": [
        "## Categorical and Categorical Variables"
      ]
    },
    {
      "cell_type": "code",
      "metadata": {
        "colab": {
          "base_uri": "https://localhost:8080/",
          "height": 474
        },
        "id": "ymTAfehh5dQS",
        "outputId": "c582b06b-984d-441a-cdac-149c57cbec78"
      },
      "source": [
        "# Stacked column chart of type of location vs Has a bank account\n",
        "finance.head()\n",
        "pd.crosstab(finance['type_of_location'],finance['has_a_bank_account']).plot(kind=\"bar\",stacked=True, figsize=(8,6), color=['blue','green'])\n",
        "plt.xlabel(\"Type of location\", fontsize=10, fontweight=\"bold\")\n",
        "plt.ylabel(\"Number of people with bank accounts\")\n",
        "plt.title(\"Number of people with bank accounts vs Type of Location\", y=1.1)"
      ],
      "execution_count": 39,
      "outputs": [
        {
          "output_type": "execute_result",
          "data": {
            "text/plain": [
              "Text(0.5, 1.1, 'Number of people with bank accounts vs Type of Location')"
            ]
          },
          "metadata": {
            "tags": []
          },
          "execution_count": 39
        },
        {
          "output_type": "display_data",
          "data": {
            "image/png": "[encoded data removed]",
            "text/plain": [
              "<Figure size 576x432 with 1 Axes>"
            ]
          },
          "metadata": {
            "tags": [],
            "needs_background": "light"
          }
        }
      ]
    },
    {
      "cell_type": "code",
      "metadata": {
        "colab": {
          "base_uri": "https://localhost:8080/",
          "height": 561
        },
        "id": "SlVEnXDr7Lau",
        "outputId": "bc0a5a94-bc5b-41a9-c905-ff78f12b9138"
      },
      "source": [
        "pd.crosstab(finance['marital_status'],finance['has_a_bank_account']).plot(kind=\"bar\",stacked=True, figsize=(8,6), color=['blue','green'])\n",
        "plt.xlabel(\"Marital status\", fontsize=10, fontweight=\"bold\")\n",
        "plt.ylabel(\"Number of people with bank accounts\")\n",
        "plt.title(\"Number of people with bank accounts vs Married status\", y=1.1)"
      ],
      "execution_count": 40,
      "outputs": [
        {
          "output_type": "execute_result",
          "data": {
            "text/plain": [
              "Text(0.5, 1.1, 'Number of people with bank accounts vs Married status')"
            ]
          },
          "metadata": {
            "tags": []
          },
          "execution_count": 40
        },
        {
          "output_type": "display_data",
          "data": {
            "image/png": "[encoded data removed]",
            "text/plain": [
              "<Figure size 576x432 with 1 Axes>"
            ]
          },
          "metadata": {
            "tags": [],
            "needs_background": "light"
          }
        }
      ]
    },
    {
      "cell_type": "code",
      "metadata": {
        "colab": {
          "base_uri": "https://localhost:8080/",
          "height": 460
        },
        "id": "PS8Kk6-6CAPw",
        "outputId": "14c3d03c-cd6c-4c17-ac86-dcc68de6142a"
      },
      "source": [
        "pd.crosstab(finance['cell_phone_access'],finance['has_a_bank_account']).plot(kind=\"bar\",stacked=True, figsize=(8,6), color=['blue','green'])\n",
        "plt.xlabel(\"Cell phone access\", fontsize=10, fontweight=\"bold\")\n",
        "plt.ylabel(\"Number of people with bank accounts\")\n",
        "plt.title(\"Number of people with bank accounts vs Cell phone access\", y=1.1)"
      ],
      "execution_count": 41,
      "outputs": [
        {
          "output_type": "execute_result",
          "data": {
            "text/plain": [
              "Text(0.5, 1.1, 'Number of people with bank accounts vs Cell phone access')"
            ]
          },
          "metadata": {
            "tags": []
          },
          "execution_count": 41
        },
        {
          "output_type": "display_data",
          "data": {
            "image/png": "[encoded data removed]",
            "text/plain": [
              "<Figure size 576x432 with 1 Axes>"
            ]
          },
          "metadata": {
            "tags": [],
            "needs_background": "light"
          }
        }
      ]
    },
    {
      "cell_type": "code",
      "metadata": {
        "colab": {
          "base_uri": "https://localhost:8080/",
          "height": 598
        },
        "id": "mg6X54HKCmo6",
        "outputId": "7ed7392d-97e8-4e98-c67d-b34bc05ec944"
      },
      "source": [
        "# Stacked column chart of people with bank accounts vs their level of education\n",
        "pd.crosstab(finance['level_of_education'],finance['has_a_bank_account']).plot(kind=\"bar\",stacked=True, figsize=(8,6), color=['blue','green'])\n",
        "plt.xlabel(\"Level of education\", fontsize=10, fontweight=\"bold\")\n",
        "plt.ylabel(\"Number of people with bank accounts\")\n",
        "plt.title(\"Number of people with bank accounts vs Level of Education\", y=1.1)"
      ],
      "execution_count": 48,
      "outputs": [
        {
          "output_type": "execute_result",
          "data": {
            "text/plain": [
              "Text(0.5, 1.1, 'Number of people with bank accounts vs Level of Education')"
            ]
          },
          "metadata": {
            "tags": []
          },
          "execution_count": 48
        },
        {
          "output_type": "display_data",
          "data": {
            "image/png": "[encoded data removed]",
            "text/plain": [
              "<Figure size 576x432 with 1 Axes>"
            ]
          },
          "metadata": {
            "tags": [],
            "needs_background": "light"
          }
        }
      ]
    },
    {
      "cell_type": "markdown",
      "metadata": {
        "id": "SQ71Y-2wJPgk"
      },
      "source": [
        "## Categorical and Numerical Variables"
      ]
    },
    {
      "cell_type": "code",
      "metadata": {
        "id": "fHEmib4FJZOi"
      },
      "source": [
        "# Z-test \n",
        "from scipy import stats\n",
        "age= finance['respondent_age']\n",
        "size= finance['household_size']\n",
        "age_zscore = stats.zscore(age)\n",
        "print(\"The z score for respondents' age is: \\n\", age_zscore)\n",
        "print('\\n')\n",
        "\n",
        "size_zscore = stats.zscore(size)\n",
        "print(\"The z score for household size is: \\n\", size_zscore)\n",
        "print('\\n')"
      ],
      "execution_count": null,
      "outputs": []
    },
    {
      "cell_type": "code",
      "metadata": {
        "id": "oh81kO0k7T5a"
      },
      "source": [
        "# T test\n",
        "gender=finance.groupby('has_a_bank_account')['gender_of_respondent'].value_counts().reset_index(name='Count per gender')\n",
        "gender\n",
        "\n",
        "yes=gender.loc[(gender['has_a_bank_account'] == 'Yes') & (gender['gender_of_respondent'])]\n",
        "yes\n",
        "\n",
        "no = gender.loc[(gender['has_a_bank_account'] == 'No') & (gender['gender_of_respondent'])]\n",
        "no\n",
        "\n",
        "from scipy.stats import ttest_ind\n",
        "t_stat,p = ttest_ind(yes['Count per gender'],no['Count per gender'])\n",
        "print(f't={t_stat}, p={p}')"
      ],
      "execution_count": null,
      "outputs": []
    },
    {
      "cell_type": "markdown",
      "metadata": {
        "id": "tJUW7a76u0nM"
      },
      "source": [
        "## Findings and Recommendations"
      ]
    },
    {
      "cell_type": "markdown",
      "metadata": {
        "id": "FY4u7GFEu5nd"
      },
      "source": [
        "- We were able to determine that most people interviewed had a cell phone but less than 15% of them had no bank account. \n",
        "\n",
        "We would recommend that everyone having a cell phone should be educated on the importance of financial services such as bank accounts for the purposes of savings and investing. This in turn improves the economic development of a country and region. "
      ]
    },
    {
      "cell_type": "markdown",
      "metadata": {
        "id": "l2pun9Xh-vtV"
      },
      "source": [
        "# Multivariate Analysis"
      ]
    },
    {
      "cell_type": "code",
      "metadata": {
        "colab": {
          "base_uri": "https://localhost:8080/",
          "height": 550
        },
        "id": "5H_ZNANC-WET",
        "outputId": "bd010c97-c379-4e57-e245-63d12bcdff09"
      },
      "source": [
        "# We plot a pairplot to show the relationship between all the variables in our dataset\n",
        "sns.pairplot(finance)\n",
        "plt.show()"
      ],
      "execution_count": 49,
      "outputs": [
        {
          "output_type": "display_data",
          "data": {
            "image/png": "[encoded data removed]",
            "text/plain": [
              "<Figure size 540x540 with 12 Axes>"
            ]
          },
          "metadata": {
            "tags": [],
            "needs_background": "light"
          }
        }
      ]
    },
    {
      "cell_type": "markdown",
      "metadata": {
        "id": "vmiXPlcSHoNr"
      },
      "source": [
        "# Implementing the Solution"
      ]
    },
    {
      "cell_type": "markdown",
      "metadata": {
        "id": "KpQ6p-KEwurg"
      },
      "source": [
        "## Principal Component Analysis"
      ]
    },
    {
      "cell_type": "code",
      "metadata": {
        "colab": {
          "base_uri": "https://localhost:8080/",
          "height": 326
        },
        "id": "vNitWq2H_HUw",
        "outputId": "5e7c2742-48da-4cf6-dd51-3d791761fe3d"
      },
      "source": [
        "# Dimensionality Reduction Techniques\n",
        "# PCA \n",
        "\n",
        "# Lets drop the year column since we won't use it \n",
        "finance.drop('year', axis=1, inplace=True)\n",
        "# We could go ahead to preview our dataset\n",
        "finance.head()"
      ],
      "execution_count": 50,
      "outputs": [
        {
          "output_type": "execute_result",
          "data": {
            "text/html": [
              "<div>\n",
              "<style scoped>\n",
              "    .dataframe tbody tr th:only-of-type {\n",
              "        vertical-align: middle;\n",
              "    }\n",
              "\n",
              "    .dataframe tbody tr th {\n",
              "        vertical-align: top;\n",
              "    }\n",
              "\n",
              "    .dataframe thead th {\n",
              "        text-align: right;\n",
              "    }\n",
              "</style>\n",
              "<table border=\"1\" class=\"dataframe\">\n",
              "  <thead>\n",
              "    <tr style=\"text-align: right;\">\n",
              "      <th></th>\n",
              "      <th>country</th>\n",
              "      <th>has_a_bank_account</th>\n",
              "      <th>type_of_location</th>\n",
              "      <th>cell_phone_access</th>\n",
              "      <th>household_size</th>\n",
              "      <th>respondent_age</th>\n",
              "      <th>gender_of_respondent</th>\n",
              "      <th>marital_status</th>\n",
              "      <th>level_of_education</th>\n",
              "      <th>type_of_job</th>\n",
              "    </tr>\n",
              "  </thead>\n",
              "  <tbody>\n",
              "    <tr>\n",
              "      <th>0</th>\n",
              "      <td>Kenya</td>\n",
              "      <td>Yes</td>\n",
              "      <td>Rural</td>\n",
              "      <td>Yes</td>\n",
              "      <td>3.0</td>\n",
              "      <td>24.0</td>\n",
              "      <td>Female</td>\n",
              "      <td>Married/Living together</td>\n",
              "      <td>Secondary education</td>\n",
              "      <td>Self employed</td>\n",
              "    </tr>\n",
              "    <tr>\n",
              "      <th>1</th>\n",
              "      <td>Kenya</td>\n",
              "      <td>No</td>\n",
              "      <td>Rural</td>\n",
              "      <td>No</td>\n",
              "      <td>5.0</td>\n",
              "      <td>70.0</td>\n",
              "      <td>Female</td>\n",
              "      <td>Widowed</td>\n",
              "      <td>No formal education</td>\n",
              "      <td>Government Dependent</td>\n",
              "    </tr>\n",
              "    <tr>\n",
              "      <th>2</th>\n",
              "      <td>Kenya</td>\n",
              "      <td>Yes</td>\n",
              "      <td>Urban</td>\n",
              "      <td>Yes</td>\n",
              "      <td>5.0</td>\n",
              "      <td>26.0</td>\n",
              "      <td>Male</td>\n",
              "      <td>Single/Never Married</td>\n",
              "      <td>Vocational/Specialised training</td>\n",
              "      <td>Self employed</td>\n",
              "    </tr>\n",
              "    <tr>\n",
              "      <th>3</th>\n",
              "      <td>Kenya</td>\n",
              "      <td>No</td>\n",
              "      <td>Rural</td>\n",
              "      <td>Yes</td>\n",
              "      <td>5.0</td>\n",
              "      <td>34.0</td>\n",
              "      <td>Female</td>\n",
              "      <td>Married/Living together</td>\n",
              "      <td>Primary education</td>\n",
              "      <td>Formally employed Private</td>\n",
              "    </tr>\n",
              "    <tr>\n",
              "      <th>4</th>\n",
              "      <td>Kenya</td>\n",
              "      <td>No</td>\n",
              "      <td>Urban</td>\n",
              "      <td>No</td>\n",
              "      <td>8.0</td>\n",
              "      <td>26.0</td>\n",
              "      <td>Male</td>\n",
              "      <td>Single/Never Married</td>\n",
              "      <td>Primary education</td>\n",
              "      <td>Informally employed</td>\n",
              "    </tr>\n",
              "  </tbody>\n",
              "</table>\n",
              "</div>"
            ],
            "text/plain": [
              "  country  ...                type_of_job\n",
              "0   Kenya  ...              Self employed\n",
              "1   Kenya  ...       Government Dependent\n",
              "2   Kenya  ...              Self employed\n",
              "3   Kenya  ...  Formally employed Private\n",
              "4   Kenya  ...        Informally employed\n",
              "\n",
              "[5 rows x 10 columns]"
            ]
          },
          "metadata": {
            "tags": []
          },
          "execution_count": 50
        }
      ]
    },
    {
      "cell_type": "code",
      "metadata": {
        "id": "R0PQCIjFAsXP"
      },
      "source": [
        "# Preprocessing\n",
        "# The first preprocessing step is to divide the dataset into a feature set and corresponding labels.\n",
        "# X are the feature variables while Y are the corresponding labels\n",
        "\n",
        "X = finance.drop(['country', 'has_a_bank_account', 'type_of_location', 'cell_phone_access', 'gender_of_respondent', 'marital_status', 'level_of_education', 'type_of_job'], axis=1)\n",
        "#Y = finance[['country', 'has_a_bank_account','type_of_location', 'cell_phone_access', 'gender_of_respondent', 'marital_status', 'level_of_educuation', 'type_of_job']]\n",
        "Y = finance['has_a_bank_account']"
      ],
      "execution_count": 64,
      "outputs": []
    },
    {
      "cell_type": "code",
      "metadata": {
        "id": "0d9COGEhFf8c"
      },
      "source": [
        "# Splitting the dataset into the Training set and Test set\n",
        "# The next preprocessing step is to divide data into training and test sets.\n",
        "from sklearn.model_selection import train_test_split\n",
        "\n",
        "X_train, X_test, y_train, y_test = train_test_split(X, Y, test_size=0.2, random_state=0)"
      ],
      "execution_count": 65,
      "outputs": []
    },
    {
      "cell_type": "code",
      "metadata": {
        "id": "Q_jrdiUHFuW0"
      },
      "source": [
        "# Normalization \n",
        "# We will perform standard scalar normalization to normalize our feature set.\n",
        "from sklearn.preprocessing import StandardScaler\n",
        "\n",
        "sc = StandardScaler()\n",
        "X_train = sc.fit_transform(X_train)\n",
        "X_test = sc.transform(X_test)"
      ],
      "execution_count": 66,
      "outputs": []
    },
    {
      "cell_type": "code",
      "metadata": {
        "id": "HxXUC5HzF6N2"
      },
      "source": [
        "# Applying PCA\n",
        "# Initialize the PCA class by passing the number of components to the constructor.\n",
        "# Call the fit and then transform methods by passing the feature set to these methods. \n",
        "# The transform method returns the specified number of principal components.\n",
        "from sklearn.decomposition import PCA\n",
        "\n",
        "pca = PCA()\n",
        "X_train = pca.fit_transform(X_train)\n",
        "X_test = pca.transform(X_test)"
      ],
      "execution_count": 67,
      "outputs": []
    },
    {
      "cell_type": "code",
      "metadata": {
        "colab": {
          "base_uri": "https://localhost:8080/"
        },
        "id": "-AZ_Gdg_F-Lu",
        "outputId": "a8061e13-42a4-4768-ce72-017df4dde4e0"
      },
      "source": [
        "# Explained Variance Ratio\n",
        "# The PCA class contains explained_variance_ratio_ which returns the variance caused by each of the principal components\n",
        "explained_variance = pca.explained_variance_ratio_\n",
        "explained_variance"
      ],
      "execution_count": 68,
      "outputs": [
        {
          "output_type": "execute_result",
          "data": {
            "text/plain": [
              "array([0.55968711, 0.44031289])"
            ]
          },
          "metadata": {
            "tags": []
          },
          "execution_count": 68
        }
      ]
    },
    {
      "cell_type": "code",
      "metadata": {
        "colab": {
          "base_uri": "https://localhost:8080/"
        },
        "id": "5SO8pnuQGUg2",
        "outputId": "e0d8ecbc-459c-4854-96ac-b77753d811a8"
      },
      "source": [
        "# Training and Making Predictions\n",
        "# In this case we'll use random forest classification for making the predictions.\n",
        "from sklearn.ensemble import RandomForestClassifier\n",
        "\n",
        "classifier = RandomForestClassifier(max_depth=2, random_state=0)\n",
        "classifier.fit(X_train, y_train)\n",
        "y_pred = classifier.predict(X_test)\n",
        "y_pred"
      ],
      "execution_count": 69,
      "outputs": [
        {
          "output_type": "execute_result",
          "data": {
            "text/plain": [
              "array(['No', 'No', 'No', ..., 'No', 'No', 'No'], dtype=object)"
            ]
          },
          "metadata": {
            "tags": []
          },
          "execution_count": 69
        }
      ]
    },
    {
      "cell_type": "code",
      "metadata": {
        "id": "geUVdpQxHDbP",
        "colab": {
          "base_uri": "https://localhost:8080/"
        },
        "outputId": "f3e4754d-b640-49f6-97b2-17ef8ca72bcf"
      },
      "source": [
        "# Performance Evaluation\n",
        "from sklearn.metrics import confusion_matrix\n",
        "from sklearn.metrics import accuracy_score\n",
        "\n",
        "cm = confusion_matrix(y_test, y_pred)\n",
        "print(cm)\n",
        "print('Accuracy' , accuracy_score(y_test, y_pred))"
      ],
      "execution_count": 70,
      "outputs": [
        {
          "output_type": "stream",
          "text": [
            "[[4036    0]\n",
            " [ 632    0]]\n",
            "Accuracy 0.8646101113967438\n"
          ],
          "name": "stdout"
        }
      ]
    },
    {
      "cell_type": "markdown",
      "metadata": {
        "id": "ewyyknHTXCW2"
      },
      "source": [
        "## Findings "
      ]
    },
    {
      "cell_type": "markdown",
      "metadata": {
        "id": "Yy2MQIQB5DH1"
      },
      "source": [
        "The Principal Component Analysis reduction technique is giving us an accuracy of 86% which means that we could require more conclusive data to give us a higher prediction on whether a person is most likely to have or use a bank account"
      ]
    },
    {
      "cell_type": "markdown",
      "metadata": {
        "id": "sesFNff-6nqJ"
      },
      "source": [
        "# 8. Challenging the Solution"
      ]
    },
    {
      "cell_type": "markdown",
      "metadata": {
        "id": "LbDtIAWc6o5l"
      },
      "source": [
        "## Linear Discriminant Analysis (LDA)"
      ]
    },
    {
      "cell_type": "code",
      "metadata": {
        "colab": {
          "base_uri": "https://localhost:8080/",
          "height": 326
        },
        "id": "futxwmHL52FI",
        "outputId": "67e80bf7-3e1b-4044-dd9c-17ddc36604c2"
      },
      "source": [
        "# We could challenge the solution by comparing using another dimensionality reduction technique\n",
        "# LDA (Linear Discriminant Analysis)\n",
        "# First we preview the data\n",
        "finance.head()"
      ],
      "execution_count": 71,
      "outputs": [
        {
          "output_type": "execute_result",
          "data": {
            "text/html": [
              "<div>\n",
              "<style scoped>\n",
              "    .dataframe tbody tr th:only-of-type {\n",
              "        vertical-align: middle;\n",
              "    }\n",
              "\n",
              "    .dataframe tbody tr th {\n",
              "        vertical-align: top;\n",
              "    }\n",
              "\n",
              "    .dataframe thead th {\n",
              "        text-align: right;\n",
              "    }\n",
              "</style>\n",
              "<table border=\"1\" class=\"dataframe\">\n",
              "  <thead>\n",
              "    <tr style=\"text-align: right;\">\n",
              "      <th></th>\n",
              "      <th>country</th>\n",
              "      <th>has_a_bank_account</th>\n",
              "      <th>type_of_location</th>\n",
              "      <th>cell_phone_access</th>\n",
              "      <th>household_size</th>\n",
              "      <th>respondent_age</th>\n",
              "      <th>gender_of_respondent</th>\n",
              "      <th>marital_status</th>\n",
              "      <th>level_of_education</th>\n",
              "      <th>type_of_job</th>\n",
              "    </tr>\n",
              "  </thead>\n",
              "  <tbody>\n",
              "    <tr>\n",
              "      <th>0</th>\n",
              "      <td>Kenya</td>\n",
              "      <td>Yes</td>\n",
              "      <td>Rural</td>\n",
              "      <td>Yes</td>\n",
              "      <td>3.0</td>\n",
              "      <td>24.0</td>\n",
              "      <td>Female</td>\n",
              "      <td>Married/Living together</td>\n",
              "      <td>Secondary education</td>\n",
              "      <td>Self employed</td>\n",
              "    </tr>\n",
              "    <tr>\n",
              "      <th>1</th>\n",
              "      <td>Kenya</td>\n",
              "      <td>No</td>\n",
              "      <td>Rural</td>\n",
              "      <td>No</td>\n",
              "      <td>5.0</td>\n",
              "      <td>70.0</td>\n",
              "      <td>Female</td>\n",
              "      <td>Widowed</td>\n",
              "      <td>No formal education</td>\n",
              "      <td>Government Dependent</td>\n",
              "    </tr>\n",
              "    <tr>\n",
              "      <th>2</th>\n",
              "      <td>Kenya</td>\n",
              "      <td>Yes</td>\n",
              "      <td>Urban</td>\n",
              "      <td>Yes</td>\n",
              "      <td>5.0</td>\n",
              "      <td>26.0</td>\n",
              "      <td>Male</td>\n",
              "      <td>Single/Never Married</td>\n",
              "      <td>Vocational/Specialised training</td>\n",
              "      <td>Self employed</td>\n",
              "    </tr>\n",
              "    <tr>\n",
              "      <th>3</th>\n",
              "      <td>Kenya</td>\n",
              "      <td>No</td>\n",
              "      <td>Rural</td>\n",
              "      <td>Yes</td>\n",
              "      <td>5.0</td>\n",
              "      <td>34.0</td>\n",
              "      <td>Female</td>\n",
              "      <td>Married/Living together</td>\n",
              "      <td>Primary education</td>\n",
              "      <td>Formally employed Private</td>\n",
              "    </tr>\n",
              "    <tr>\n",
              "      <th>4</th>\n",
              "      <td>Kenya</td>\n",
              "      <td>No</td>\n",
              "      <td>Urban</td>\n",
              "      <td>No</td>\n",
              "      <td>8.0</td>\n",
              "      <td>26.0</td>\n",
              "      <td>Male</td>\n",
              "      <td>Single/Never Married</td>\n",
              "      <td>Primary education</td>\n",
              "      <td>Informally employed</td>\n",
              "    </tr>\n",
              "  </tbody>\n",
              "</table>\n",
              "</div>"
            ],
            "text/plain": [
              "  country  ...                type_of_job\n",
              "0   Kenya  ...              Self employed\n",
              "1   Kenya  ...       Government Dependent\n",
              "2   Kenya  ...              Self employed\n",
              "3   Kenya  ...  Formally employed Private\n",
              "4   Kenya  ...        Informally employed\n",
              "\n",
              "[5 rows x 10 columns]"
            ]
          },
          "metadata": {
            "tags": []
          },
          "execution_count": 71
        }
      ]
    },
    {
      "cell_type": "code",
      "metadata": {
        "id": "SS4KPAeX67CU"
      },
      "source": [
        "# Preprocessing\n",
        "# The first preprocessing step is to divide the dataset into a feature set and corresponding labels.\n",
        "# X are the feature variables while Y are the corresponding labels\n",
        "\n",
        "X = finance.drop(['country', 'has_a_bank_account', 'type_of_location', 'cell_phone_access', 'gender_of_respondent', 'marital_status', 'level_of_education', 'type_of_job'], axis=1)\n",
        "#Y = finance[['country', 'has_a_bank_account','type_of_location', 'cell_phone_access', 'gender_of_respondent', 'marital_status', 'level_of_educuation', 'type_of_job']]\n",
        "Y = finance['has_a_bank_account']"
      ],
      "execution_count": 72,
      "outputs": []
    },
    {
      "cell_type": "code",
      "metadata": {
        "id": "s1kuWl5k7Cxt"
      },
      "source": [
        "# Splitting the dataset into the Training set and Test set\n",
        "# The next preprocessing step is to divide data into training and test sets.\n",
        "from sklearn.model_selection import train_test_split\n",
        "\n",
        "X_train, X_test, y_train, y_test = train_test_split(X, Y, test_size=0.2, random_state=0)"
      ],
      "execution_count": 73,
      "outputs": []
    },
    {
      "cell_type": "code",
      "metadata": {
        "id": "Lc-Mdgsw7L_Y"
      },
      "source": [
        "# Normalization \n",
        "# We will perform standard scalar normalization to normalize our feature set.\n",
        "from sklearn.preprocessing import StandardScaler\n",
        "\n",
        "sc = StandardScaler()\n",
        "X_train = sc.fit_transform(X_train)\n",
        "X_test = sc.transform(X_test)"
      ],
      "execution_count": 74,
      "outputs": []
    },
    {
      "cell_type": "code",
      "metadata": {
        "id": "dmKI2XoW7SRz"
      },
      "source": [
        "# Performing LDA\n",
        "from sklearn.discriminant_analysis import LinearDiscriminantAnalysis as LDA\n",
        "lda = LDA(n_components=1)\n",
        "X_train = lda.fit_transform(X_train, y_train)\n",
        "X_test = lda.transform(X_test)"
      ],
      "execution_count": 75,
      "outputs": []
    },
    {
      "cell_type": "code",
      "metadata": {
        "id": "v5yIBq0I7jqM"
      },
      "source": [
        "# Training and Making Predictions\n",
        "# We will use the random forest classifier to evaluate the performance of a LDA-reduced algorithms as shown\n",
        "# \n",
        "\n",
        "from sklearn.ensemble import RandomForestClassifier\n",
        "\n",
        "classifier = RandomForestClassifier(max_depth=2, random_state=0)\n",
        "classifier.fit(X_train, y_train)\n",
        "y_pred = classifier.predict(X_test)"
      ],
      "execution_count": 76,
      "outputs": []
    },
    {
      "cell_type": "code",
      "metadata": {
        "colab": {
          "base_uri": "https://localhost:8080/"
        },
        "id": "m3BQflH87uQW",
        "outputId": "95f6d14e-0c00-46a8-aabb-439b998dbc87"
      },
      "source": [
        "# Performance Evaluation\n",
        "from sklearn.metrics import confusion_matrix\n",
        "from sklearn.metrics import accuracy_score\n",
        "\n",
        "cm = confusion_matrix(y_test, y_pred)\n",
        "print(cm)\n",
        "print('Accuracy' , accuracy_score(y_test, y_pred))"
      ],
      "execution_count": 77,
      "outputs": [
        {
          "output_type": "stream",
          "text": [
            "[[4036    0]\n",
            " [ 632    0]]\n",
            "Accuracy 0.8646101113967438\n"
          ],
          "name": "stdout"
        }
      ]
    },
    {
      "cell_type": "markdown",
      "metadata": {
        "id": "DgD38_3f7_s1"
      },
      "source": [
        "## Findings and Recommendations"
      ]
    },
    {
      "cell_type": "markdown",
      "metadata": {
        "id": "bD4rPYZ88CyQ"
      },
      "source": [
        "The Linear Discriminant Analysis reduction technique also gives us the same accuracy of 86% which means that we need extra data to be able to accurately predict whether a person has a bank account. \n",
        "- We would recommend adding an extra feature label, e.g income of the respondent to increase the prediction accuracy of whether a person is most likely to have a bank account. "
      ]
    },
    {
      "cell_type": "markdown",
      "metadata": {
        "id": "-z6tlwN38lFi"
      },
      "source": [
        "# 9. Follow up Questions"
      ]
    },
    {
      "cell_type": "markdown",
      "metadata": {
        "id": "tTZLwdtU80ce"
      },
      "source": [
        "## Did we have the right data ?"
      ]
    },
    {
      "cell_type": "markdown",
      "metadata": {
        "id": "dFGin19U86pT"
      },
      "source": [
        "We had the right data since after using PCA and LDA dimensionality reduction techniques, we were able to achieve 86% prediction accuracy on whether a person has a bank account or not. "
      ]
    },
    {
      "cell_type": "markdown",
      "metadata": {
        "id": "uo_QwB0M9ssj"
      },
      "source": [
        "## Do we need other data to answer our question ?"
      ]
    },
    {
      "cell_type": "markdown",
      "metadata": {
        "id": "xiyFifjr9_BC"
      },
      "source": [
        "Yes we need an income column which shows the annual income of every respondent so that we are able to increase the accuracy of predicting whether a person has a bank account or not. Income data would enable us to predict whether a respondent requires a bank account for purposes such as saving and investing. "
      ]
    },
    {
      "cell_type": "markdown",
      "metadata": {
        "id": "lYqvQAGBJYdp"
      },
      "source": [
        "## Did we have the right question ?"
      ]
    },
    {
      "cell_type": "markdown",
      "metadata": {
        "id": "8E6n85n2CKBW"
      },
      "source": [
        "Yes we had the right question since key demographic factors such as age, marital status, type of location, type of job and the level of education help drive the financial outcome of an individual. Thus if we are able to predict whether a person has a bank account or not, we can be able to tell the availability and equality of opportunities to access financial services which is an indication of the state of financial inclusion in East Africa. "
      ]
    }
  ]
}